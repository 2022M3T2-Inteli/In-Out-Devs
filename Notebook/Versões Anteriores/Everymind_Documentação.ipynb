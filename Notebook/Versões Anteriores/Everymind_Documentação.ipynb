{
  "nbformat": 4,
  "nbformat_minor": 0,
  "metadata": {
    "colab": {
      "name": "Everymind - Documentação.ipynb",
      "provenance": [],
      "collapsed_sections": [
        "aD3hZYoLwY9Q",
        "U1DQ6naKi5MV",
        "-k36HOk8EuMZ",
        "-B4MJs9mPnmo",
        "Qq7lDaYZQezn",
        "r9huhm5thfi_",
        "eancaU3XhxX6",
        "ABSwlmYVl0hn",
        "qgVhrVLhjYZY",
        "3c_soQKsNXDi",
        "vvBjmo6bzs7W",
        "gsTr-dKh9U4T",
        "5JSsSDH2Jwrj",
        "_dgAkQEAJIns",
        "Qw3j4pu3LUPE",
        "bKXr1S6x9tzg"
      ]
    },
    "kernelspec": {
      "name": "python3",
      "display_name": "Python 3"
    },
    "language_info": {
      "name": "python"
    }
  },
  "cells": [
    {
      "cell_type": "markdown",
      "source": [
        "# Everymind - Turnover de Funcionários\n",
        "\n",
        "**INTEGRANTES:**\n",
        "\n",
        "\n",
        "1. Emanuele Lacerda Morais Martins\n",
        "2. Giovanna Furlan Torres\n",
        "3. Jean Lucas Rothstein Machado\n",
        "4. Lucas de Britto Vieira\n",
        "5. Patrick Victorino Miranda\n",
        "6. Pedro Henrique Sant'Anna Oliveira\n",
        "\n",
        "\n",
        "\n",
        "## 1. Problema a ser resolvido:\n",
        "\n",
        "Atualmente as empresas vêm sendo afetadas pela intensa rotatividade dos seus colaboradores. Esse problema atinge a companhia de diversas maneiras, como: 1) Os gastos contínuos com contratação; e 2) Treinamento e desenvolvimento de novos funcionários. Além disso, essa situação interfere em toda dinâmica do negócio, desde a produção, criação, desenvolvimento até a entrega final para os consumidores.\n",
        "\n",
        "## 2. Solução Proposta\n",
        "\n",
        "A solução se baseia em uma ferramenta, que utiliza o aprendizado de máquina para realizar a previsão da taxa de rotatividade dos funcionários. Esse modelo de predição irá fornecer a área de RH da Everymind quais colaboradores são mais propenso a saírem da empresa, contribuindo para que eles encontrem maneiras de reduzir a taxa de turnover e que melhorem a experiência dos seus colaboradores, através de um “Lock in”,  sendo esse uma forma de beneficiar os funcionários que apresentam características que condizem com a cultura da empresa, fornecendo incentivos de permanência na instituição."
      ],
      "metadata": {
        "id": "vxGcMxyQr_A5"
      }
    },
    {
      "cell_type": "markdown",
      "source": [
        "# Introdução"
      ],
      "metadata": {
        "id": "k6yaUiq5srHU"
      }
    },
    {
      "cell_type": "markdown",
      "source": [
        "A construção de um modelo preditivo para a alta taxa de turnover de funcionários para a empresa Everymind será realizada através do Google Colaboratory, por meio deste notebook. Nas sessões seguintes serão demonstradas passo a passo de como os dados foram utilizados até a conclusão e entrega do modelo esperado, passando pelas fases: \n",
        "\n",
        "\n",
        "1.   Seleção dos dados;\n",
        "2.   Processamento dos dados selecionados;\n",
        "3. Transformação dos dados (pré-processamento);\n",
        "4. Mineração de dados; e\n",
        "5. Interpretação e Avaliação do modelo;\n",
        "\n"
      ],
      "metadata": {
        "id": "Am70rwbywLOg"
      }
    },
    {
      "cell_type": "markdown",
      "source": [
        "## Importação das bibliotecas e plugins"
      ],
      "metadata": {
        "id": "9eoq0lNLwErx"
      }
    },
    {
      "cell_type": "markdown",
      "source": [
        "1.   **Pandas:** Biblioteca que fornece ferramentas para análise e manipulação de dados;\n",
        "2.   **Numpy:** Biblioteca utilizada através de funções que auxiliam na manipulação da computação numérica;\n",
        "3. **Datetime e Date:** Bibliotecas que possibilitam a manipulação de datas e horas; \n",
        "4. **Moment:** Plugin para manusear o tempo em si, ou seja, o tempo exato que as condições e variáveis ocorrem ou estão ocorrendo; \n",
        "5. **matplotlib:** Biblioteca utilizada para visualização de dados e plotagem gráfica;\n",
        "6. **seaborn:** Biblioteca que fornece ferramentas para plotagem estatística;\n",
        "\n",
        "\n",
        "\n"
      ],
      "metadata": {
        "id": "JnYuB6FVsx03"
      }
    },
    {
      "cell_type": "code",
      "source": [
        "#Importação de bibliotecas\n",
        "\n",
        "import pandas as pd\n",
        "import numpy as np\n",
        "from datetime import date\n",
        "import datetime\n",
        "import matplotlib.pyplot as plt\n",
        "import seaborn as sns\n",
        "\n",
        "#Importação de Plugins\n",
        "\n",
        "!pip install moment\n",
        "import moment"
      ],
      "metadata": {
        "id": "fPVxS5gTtAfd",
        "colab": {
          "base_uri": "https://localhost:8080/"
        },
        "outputId": "939ffbb2-fd90-4aae-afa1-48001b551a8b"
      },
      "execution_count": null,
      "outputs": [
        {
          "output_type": "stream",
          "name": "stdout",
          "text": [
            "Looking in indexes: https://pypi.org/simple, https://us-python.pkg.dev/colab-wheels/public/simple/\n",
            "Collecting moment\n",
            "  Downloading moment-0.12.1-py3-none-any.whl (6.4 kB)\n",
            "Collecting dateparser>=0.7\n",
            "  Downloading dateparser-1.1.1-py2.py3-none-any.whl (288 kB)\n",
            "\u001b[K     |████████████████████████████████| 288 kB 4.3 MB/s \n",
            "\u001b[?25hRequirement already satisfied: pytz>=2018.9 in /usr/local/lib/python3.7/dist-packages (from moment) (2022.2.1)\n",
            "Collecting times>=0.7\n",
            "  Downloading times-0.7-py2.py3-none-any.whl (3.8 kB)\n",
            "Collecting regex!=2019.02.19,!=2021.8.27,<2022.3.15\n",
            "  Downloading regex-2022.3.2-cp37-cp37m-manylinux_2_17_x86_64.manylinux2014_x86_64.whl (749 kB)\n",
            "\u001b[K     |████████████████████████████████| 749 kB 39.6 MB/s \n",
            "\u001b[?25hRequirement already satisfied: python-dateutil in /usr/local/lib/python3.7/dist-packages (from dateparser>=0.7->moment) (2.8.2)\n",
            "Requirement already satisfied: tzlocal in /usr/local/lib/python3.7/dist-packages (from dateparser>=0.7->moment) (1.5.1)\n",
            "Collecting arrow\n",
            "  Downloading arrow-1.2.2-py3-none-any.whl (64 kB)\n",
            "\u001b[K     |████████████████████████████████| 64 kB 2.6 MB/s \n",
            "\u001b[?25hRequirement already satisfied: typing-extensions in /usr/local/lib/python3.7/dist-packages (from arrow->times>=0.7->moment) (4.1.1)\n",
            "Requirement already satisfied: six>=1.5 in /usr/local/lib/python3.7/dist-packages (from python-dateutil->dateparser>=0.7->moment) (1.15.0)\n",
            "Installing collected packages: regex, arrow, times, dateparser, moment\n",
            "  Attempting uninstall: regex\n",
            "    Found existing installation: regex 2022.6.2\n",
            "    Uninstalling regex-2022.6.2:\n",
            "      Successfully uninstalled regex-2022.6.2\n",
            "Successfully installed arrow-1.2.2 dateparser-1.1.1 moment-0.12.1 regex-2022.3.2 times-0.7\n"
          ]
        }
      ]
    },
    {
      "cell_type": "markdown",
      "source": [
        "## Importação da base de dados"
      ],
      "metadata": {
        "id": "aD3hZYoLwY9Q"
      }
    },
    {
      "cell_type": "markdown",
      "source": [
        "Para realizar a análise, padronização e manipulação dos dados é necessário selecionar a base de dados desejada. Neste documento a importação da mesma será feita através do Google Drive e o arquivo está em formato excel (xlsx)."
      ],
      "metadata": {
        "id": "NpR_hPvhwcwF"
      }
    },
    {
      "cell_type": "code",
      "source": [
        "#Importação da Base de dados - Planilha Everymind\n",
        "from google.colab import drive\n",
        "drive.mount('/content/drive')\n",
        "df = pd.read_excel('/content/drive/MyDrive/INTELI 2 SEM/MODULO 3/Base/Base Colaboradores Everymind.xlsx', sheet_name=\"Everymind\")"
      ],
      "metadata": {
        "id": "LZuTkliAwhGT",
        "colab": {
          "base_uri": "https://localhost:8080/"
        },
        "outputId": "596affff-77ea-4e32-8d9e-6a7e0f54832b"
      },
      "execution_count": null,
      "outputs": [
        {
          "output_type": "stream",
          "name": "stdout",
          "text": [
            "Mounted at /content/drive\n"
          ]
        },
        {
          "output_type": "stream",
          "name": "stderr",
          "text": [
            "/usr/local/lib/python3.7/dist-packages/openpyxl/worksheet/_reader.py:312: UserWarning: Unknown extension is not supported and will be removed\n",
            "  warn(msg)\n"
          ]
        }
      ]
    },
    {
      "cell_type": "code",
      "source": [
        "#Importação da Base de dados - Planilha Reconhecimento\n",
        "from google.colab import drive\n",
        "drive.mount('/content/drive')\n",
        "df1 = pd.read_excel('/content/drive/MyDrive/INTELI 2 SEM/MODULO 3/Base/Base Colaboradores Everymind.xlsx', sheet_name=\"Reconhecimento\")"
      ],
      "metadata": {
        "id": "LMmhvEk4K13Y",
        "colab": {
          "base_uri": "https://localhost:8080/"
        },
        "outputId": "5858222d-5ac1-4734-9b5d-031f96a73c35"
      },
      "execution_count": null,
      "outputs": [
        {
          "output_type": "stream",
          "name": "stdout",
          "text": [
            "Drive already mounted at /content/drive; to attempt to forcibly remount, call drive.mount(\"/content/drive\", force_remount=True).\n"
          ]
        }
      ]
    },
    {
      "cell_type": "code",
      "source": [
        "#Importação da Base de dados - Planilha Ambiente de Trabalho\n",
        "from google.colab import drive\n",
        "drive.mount('/content/drive')\n",
        "df2 = pd.read_excel('/content/drive/MyDrive/INTELI 2 SEM/MODULO 3/Base/Base Colaboradores Everymind.xlsx', sheet_name=\"Ambiente de Trabalho 27.07\")"
      ],
      "metadata": {
        "id": "Hrwcu4txwPkt",
        "colab": {
          "base_uri": "https://localhost:8080/"
        },
        "outputId": "760c3354-64cd-4ee9-d68f-bc8c23277e82"
      },
      "execution_count": null,
      "outputs": [
        {
          "output_type": "stream",
          "name": "stdout",
          "text": [
            "Drive already mounted at /content/drive; to attempt to forcibly remount, call drive.mount(\"/content/drive\", force_remount=True).\n"
          ]
        }
      ]
    },
    {
      "cell_type": "markdown",
      "source": [
        "A célula de código abaixo é responsável por realizar a leitura e apresentação dos dados carregados da base na etapa anterior.\n",
        "\n",
        "*   df - Apresenta a aba da planilha Everymind\n",
        "*   df1 - Apresenta a aba da planilha Reconhecimento\n",
        "*   df2 - Apresenta a aba da planilha Ambiente de Trabalho 27.07"
      ],
      "metadata": {
        "id": "vLzDJKUDw9Z1"
      }
    },
    {
      "cell_type": "code",
      "source": [
        "df"
      ],
      "metadata": {
        "id": "o_KrSEIEw7VA",
        "colab": {
          "base_uri": "https://localhost:8080/",
          "height": 658
        },
        "outputId": "2e3c823b-ae56-4462-c531-f200bd59062f"
      },
      "execution_count": null,
      "outputs": [
        {
          "output_type": "execute_result",
          "data": {
            "text/plain": [
              "     Matrícula            Nome Completo Dt Admissao Dt Saida Tipo Saida  \\\n",
              "0        476.0    Pessoa Colaboradora 1  06/06/2022      NaT        NaN   \n",
              "1        373.0   Pessoa Colaboradora 10  14/02/2022      NaT        NaN   \n",
              "2        392.0  Pessoa Colaboradora 100  02/03/2022      NaT        NaN   \n",
              "3        110.0  Pessoa Colaboradora 101  02/12/2019      NaT        NaN   \n",
              "4        319.0  Pessoa Colaboradora 102  04/10/2021      NaT        NaN   \n",
              "..         ...                      ...         ...      ...        ...   \n",
              "470      503.0   Pessoa Colaboradora 95  04/07/2022      NaT        NaN   \n",
              "471      409.0   Pessoa Colaboradora 96  16/03/2022      NaT        NaN   \n",
              "472      504.0   Pessoa Colaboradora 97  04/07/2022      NaT        NaN   \n",
              "473      151.0   Pessoa Colaboradora 98  13/04/2020      NaT        NaN   \n",
              "474      378.0   Pessoa Colaboradora 99  14/02/2022      NaT        NaN   \n",
              "\n",
              "                  Cargo  Salario Mês Dt Nascimento      Genero    Etnia  \\\n",
              "0          Funcional Pl       2250.0    1985-02-06  Masculino    Branca   \n",
              "1          Funcional Jr       1600.0    1998-11-11    Feminino    Parda   \n",
              "2          Marketing PL       4000.0    1988-11-21    Feminino   Branca   \n",
              "3          Funcional Sr       4957.2    1983-07-30  Masculino     Preta   \n",
              "4    Gerente Vendas III       8715.9    1983-01-27  Masculino    Branca   \n",
              "..                  ...          ...           ...         ...      ...   \n",
              "470       Trainee - Dev       1017.0    2003-04-02  Masculino    Branca   \n",
              "471       Trainee - Dev       1017.0    1994-01-10  Masculino    Branca   \n",
              "472       Trainee - Dev       1017.0    1991-09-28  Masculino    Branca   \n",
              "473              Dev Sr       4681.8    1990-03-12  Masculino   Amarela   \n",
              "474       Trainee - Dev       1017.0    2000-10-04  Masculino    Branca   \n",
              "\n",
              "    Estado Civil        Escolaridade  Estado             Cidade  \\\n",
              "0         Casado  Superior incompleto     PR           Curitiba   \n",
              "1       Solteiro  Superior incompleto     PB        João Pessoa   \n",
              "2       Solteiro  Superior incompleto     SP          São Paulo   \n",
              "3     Divorciado            Graduação     SP          São Paulo   \n",
              "4       Solteiro        Pós Graduação     SP          São Paulo   \n",
              "..           ...                  ...    ...                ...   \n",
              "470     Solteiro  Superior incompleto     SP          São Paulo   \n",
              "471     Solteiro  Superior incompleto     SP          São Paulo   \n",
              "472     Solteiro  Superior incompleto     SP       Praia Grande   \n",
              "473       Casado        Pós Graduação     SP  Bragança Paulista   \n",
              "474     Solteiro  Superior incompleto     SC              Mafra   \n",
              "\n",
              "                     Area  \n",
              "0          CPG & Retail I  \n",
              "1    Core & Industrias II  \n",
              "2         Agencia Digital  \n",
              "3     Core & Industrias I  \n",
              "4                  Vendas  \n",
              "..                    ...  \n",
              "470       Agencia Digital  \n",
              "471       CPG & Retail II  \n",
              "472          CPG & Retail  \n",
              "473        CPG & Retail I  \n",
              "474              Commerce  \n",
              "\n",
              "[475 rows x 15 columns]"
            ],
            "text/html": [
              "\n",
              "  <div id=\"df-4dc5e314-7a07-4f06-a82f-aa8927bd666e\">\n",
              "    <div class=\"colab-df-container\">\n",
              "      <div>\n",
              "<style scoped>\n",
              "    .dataframe tbody tr th:only-of-type {\n",
              "        vertical-align: middle;\n",
              "    }\n",
              "\n",
              "    .dataframe tbody tr th {\n",
              "        vertical-align: top;\n",
              "    }\n",
              "\n",
              "    .dataframe thead th {\n",
              "        text-align: right;\n",
              "    }\n",
              "</style>\n",
              "<table border=\"1\" class=\"dataframe\">\n",
              "  <thead>\n",
              "    <tr style=\"text-align: right;\">\n",
              "      <th></th>\n",
              "      <th>Matrícula</th>\n",
              "      <th>Nome Completo</th>\n",
              "      <th>Dt Admissao</th>\n",
              "      <th>Dt Saida</th>\n",
              "      <th>Tipo Saida</th>\n",
              "      <th>Cargo</th>\n",
              "      <th>Salario Mês</th>\n",
              "      <th>Dt Nascimento</th>\n",
              "      <th>Genero</th>\n",
              "      <th>Etnia</th>\n",
              "      <th>Estado Civil</th>\n",
              "      <th>Escolaridade</th>\n",
              "      <th>Estado</th>\n",
              "      <th>Cidade</th>\n",
              "      <th>Area</th>\n",
              "    </tr>\n",
              "  </thead>\n",
              "  <tbody>\n",
              "    <tr>\n",
              "      <th>0</th>\n",
              "      <td>476.0</td>\n",
              "      <td>Pessoa Colaboradora 1</td>\n",
              "      <td>06/06/2022</td>\n",
              "      <td>NaT</td>\n",
              "      <td>NaN</td>\n",
              "      <td>Funcional Pl</td>\n",
              "      <td>2250.0</td>\n",
              "      <td>1985-02-06</td>\n",
              "      <td>Masculino</td>\n",
              "      <td>Branca</td>\n",
              "      <td>Casado</td>\n",
              "      <td>Superior incompleto</td>\n",
              "      <td>PR</td>\n",
              "      <td>Curitiba</td>\n",
              "      <td>CPG &amp; Retail I</td>\n",
              "    </tr>\n",
              "    <tr>\n",
              "      <th>1</th>\n",
              "      <td>373.0</td>\n",
              "      <td>Pessoa Colaboradora 10</td>\n",
              "      <td>14/02/2022</td>\n",
              "      <td>NaT</td>\n",
              "      <td>NaN</td>\n",
              "      <td>Funcional Jr</td>\n",
              "      <td>1600.0</td>\n",
              "      <td>1998-11-11</td>\n",
              "      <td>Feminino</td>\n",
              "      <td>Parda</td>\n",
              "      <td>Solteiro</td>\n",
              "      <td>Superior incompleto</td>\n",
              "      <td>PB</td>\n",
              "      <td>João Pessoa</td>\n",
              "      <td>Core &amp; Industrias II</td>\n",
              "    </tr>\n",
              "    <tr>\n",
              "      <th>2</th>\n",
              "      <td>392.0</td>\n",
              "      <td>Pessoa Colaboradora 100</td>\n",
              "      <td>02/03/2022</td>\n",
              "      <td>NaT</td>\n",
              "      <td>NaN</td>\n",
              "      <td>Marketing PL</td>\n",
              "      <td>4000.0</td>\n",
              "      <td>1988-11-21</td>\n",
              "      <td>Feminino</td>\n",
              "      <td>Branca</td>\n",
              "      <td>Solteiro</td>\n",
              "      <td>Superior incompleto</td>\n",
              "      <td>SP</td>\n",
              "      <td>São Paulo</td>\n",
              "      <td>Agencia Digital</td>\n",
              "    </tr>\n",
              "    <tr>\n",
              "      <th>3</th>\n",
              "      <td>110.0</td>\n",
              "      <td>Pessoa Colaboradora 101</td>\n",
              "      <td>02/12/2019</td>\n",
              "      <td>NaT</td>\n",
              "      <td>NaN</td>\n",
              "      <td>Funcional Sr</td>\n",
              "      <td>4957.2</td>\n",
              "      <td>1983-07-30</td>\n",
              "      <td>Masculino</td>\n",
              "      <td>Preta</td>\n",
              "      <td>Divorciado</td>\n",
              "      <td>Graduação</td>\n",
              "      <td>SP</td>\n",
              "      <td>São Paulo</td>\n",
              "      <td>Core &amp; Industrias I</td>\n",
              "    </tr>\n",
              "    <tr>\n",
              "      <th>4</th>\n",
              "      <td>319.0</td>\n",
              "      <td>Pessoa Colaboradora 102</td>\n",
              "      <td>04/10/2021</td>\n",
              "      <td>NaT</td>\n",
              "      <td>NaN</td>\n",
              "      <td>Gerente Vendas III</td>\n",
              "      <td>8715.9</td>\n",
              "      <td>1983-01-27</td>\n",
              "      <td>Masculino</td>\n",
              "      <td>Branca</td>\n",
              "      <td>Solteiro</td>\n",
              "      <td>Pós Graduação</td>\n",
              "      <td>SP</td>\n",
              "      <td>São Paulo</td>\n",
              "      <td>Vendas</td>\n",
              "    </tr>\n",
              "    <tr>\n",
              "      <th>...</th>\n",
              "      <td>...</td>\n",
              "      <td>...</td>\n",
              "      <td>...</td>\n",
              "      <td>...</td>\n",
              "      <td>...</td>\n",
              "      <td>...</td>\n",
              "      <td>...</td>\n",
              "      <td>...</td>\n",
              "      <td>...</td>\n",
              "      <td>...</td>\n",
              "      <td>...</td>\n",
              "      <td>...</td>\n",
              "      <td>...</td>\n",
              "      <td>...</td>\n",
              "      <td>...</td>\n",
              "    </tr>\n",
              "    <tr>\n",
              "      <th>470</th>\n",
              "      <td>503.0</td>\n",
              "      <td>Pessoa Colaboradora 95</td>\n",
              "      <td>04/07/2022</td>\n",
              "      <td>NaT</td>\n",
              "      <td>NaN</td>\n",
              "      <td>Trainee - Dev</td>\n",
              "      <td>1017.0</td>\n",
              "      <td>2003-04-02</td>\n",
              "      <td>Masculino</td>\n",
              "      <td>Branca</td>\n",
              "      <td>Solteiro</td>\n",
              "      <td>Superior incompleto</td>\n",
              "      <td>SP</td>\n",
              "      <td>São Paulo</td>\n",
              "      <td>Agencia Digital</td>\n",
              "    </tr>\n",
              "    <tr>\n",
              "      <th>471</th>\n",
              "      <td>409.0</td>\n",
              "      <td>Pessoa Colaboradora 96</td>\n",
              "      <td>16/03/2022</td>\n",
              "      <td>NaT</td>\n",
              "      <td>NaN</td>\n",
              "      <td>Trainee - Dev</td>\n",
              "      <td>1017.0</td>\n",
              "      <td>1994-01-10</td>\n",
              "      <td>Masculino</td>\n",
              "      <td>Branca</td>\n",
              "      <td>Solteiro</td>\n",
              "      <td>Superior incompleto</td>\n",
              "      <td>SP</td>\n",
              "      <td>São Paulo</td>\n",
              "      <td>CPG &amp; Retail II</td>\n",
              "    </tr>\n",
              "    <tr>\n",
              "      <th>472</th>\n",
              "      <td>504.0</td>\n",
              "      <td>Pessoa Colaboradora 97</td>\n",
              "      <td>04/07/2022</td>\n",
              "      <td>NaT</td>\n",
              "      <td>NaN</td>\n",
              "      <td>Trainee - Dev</td>\n",
              "      <td>1017.0</td>\n",
              "      <td>1991-09-28</td>\n",
              "      <td>Masculino</td>\n",
              "      <td>Branca</td>\n",
              "      <td>Solteiro</td>\n",
              "      <td>Superior incompleto</td>\n",
              "      <td>SP</td>\n",
              "      <td>Praia Grande</td>\n",
              "      <td>CPG &amp; Retail</td>\n",
              "    </tr>\n",
              "    <tr>\n",
              "      <th>473</th>\n",
              "      <td>151.0</td>\n",
              "      <td>Pessoa Colaboradora 98</td>\n",
              "      <td>13/04/2020</td>\n",
              "      <td>NaT</td>\n",
              "      <td>NaN</td>\n",
              "      <td>Dev Sr</td>\n",
              "      <td>4681.8</td>\n",
              "      <td>1990-03-12</td>\n",
              "      <td>Masculino</td>\n",
              "      <td>Amarela</td>\n",
              "      <td>Casado</td>\n",
              "      <td>Pós Graduação</td>\n",
              "      <td>SP</td>\n",
              "      <td>Bragança Paulista</td>\n",
              "      <td>CPG &amp; Retail I</td>\n",
              "    </tr>\n",
              "    <tr>\n",
              "      <th>474</th>\n",
              "      <td>378.0</td>\n",
              "      <td>Pessoa Colaboradora 99</td>\n",
              "      <td>14/02/2022</td>\n",
              "      <td>NaT</td>\n",
              "      <td>NaN</td>\n",
              "      <td>Trainee - Dev</td>\n",
              "      <td>1017.0</td>\n",
              "      <td>2000-10-04</td>\n",
              "      <td>Masculino</td>\n",
              "      <td>Branca</td>\n",
              "      <td>Solteiro</td>\n",
              "      <td>Superior incompleto</td>\n",
              "      <td>SC</td>\n",
              "      <td>Mafra</td>\n",
              "      <td>Commerce</td>\n",
              "    </tr>\n",
              "  </tbody>\n",
              "</table>\n",
              "<p>475 rows × 15 columns</p>\n",
              "</div>\n",
              "      <button class=\"colab-df-convert\" onclick=\"convertToInteractive('df-4dc5e314-7a07-4f06-a82f-aa8927bd666e')\"\n",
              "              title=\"Convert this dataframe to an interactive table.\"\n",
              "              style=\"display:none;\">\n",
              "        \n",
              "  <svg xmlns=\"http://www.w3.org/2000/svg\" height=\"24px\"viewBox=\"0 0 24 24\"\n",
              "       width=\"24px\">\n",
              "    <path d=\"M0 0h24v24H0V0z\" fill=\"none\"/>\n",
              "    <path d=\"M18.56 5.44l.94 2.06.94-2.06 2.06-.94-2.06-.94-.94-2.06-.94 2.06-2.06.94zm-11 1L8.5 8.5l.94-2.06 2.06-.94-2.06-.94L8.5 2.5l-.94 2.06-2.06.94zm10 10l.94 2.06.94-2.06 2.06-.94-2.06-.94-.94-2.06-.94 2.06-2.06.94z\"/><path d=\"M17.41 7.96l-1.37-1.37c-.4-.4-.92-.59-1.43-.59-.52 0-1.04.2-1.43.59L10.3 9.45l-7.72 7.72c-.78.78-.78 2.05 0 2.83L4 21.41c.39.39.9.59 1.41.59.51 0 1.02-.2 1.41-.59l7.78-7.78 2.81-2.81c.8-.78.8-2.07 0-2.86zM5.41 20L4 18.59l7.72-7.72 1.47 1.35L5.41 20z\"/>\n",
              "  </svg>\n",
              "      </button>\n",
              "      \n",
              "  <style>\n",
              "    .colab-df-container {\n",
              "      display:flex;\n",
              "      flex-wrap:wrap;\n",
              "      gap: 12px;\n",
              "    }\n",
              "\n",
              "    .colab-df-convert {\n",
              "      background-color: #E8F0FE;\n",
              "      border: none;\n",
              "      border-radius: 50%;\n",
              "      cursor: pointer;\n",
              "      display: none;\n",
              "      fill: #1967D2;\n",
              "      height: 32px;\n",
              "      padding: 0 0 0 0;\n",
              "      width: 32px;\n",
              "    }\n",
              "\n",
              "    .colab-df-convert:hover {\n",
              "      background-color: #E2EBFA;\n",
              "      box-shadow: 0px 1px 2px rgba(60, 64, 67, 0.3), 0px 1px 3px 1px rgba(60, 64, 67, 0.15);\n",
              "      fill: #174EA6;\n",
              "    }\n",
              "\n",
              "    [theme=dark] .colab-df-convert {\n",
              "      background-color: #3B4455;\n",
              "      fill: #D2E3FC;\n",
              "    }\n",
              "\n",
              "    [theme=dark] .colab-df-convert:hover {\n",
              "      background-color: #434B5C;\n",
              "      box-shadow: 0px 1px 3px 1px rgba(0, 0, 0, 0.15);\n",
              "      filter: drop-shadow(0px 1px 2px rgba(0, 0, 0, 0.3));\n",
              "      fill: #FFFFFF;\n",
              "    }\n",
              "  </style>\n",
              "\n",
              "      <script>\n",
              "        const buttonEl =\n",
              "          document.querySelector('#df-4dc5e314-7a07-4f06-a82f-aa8927bd666e button.colab-df-convert');\n",
              "        buttonEl.style.display =\n",
              "          google.colab.kernel.accessAllowed ? 'block' : 'none';\n",
              "\n",
              "        async function convertToInteractive(key) {\n",
              "          const element = document.querySelector('#df-4dc5e314-7a07-4f06-a82f-aa8927bd666e');\n",
              "          const dataTable =\n",
              "            await google.colab.kernel.invokeFunction('convertToInteractive',\n",
              "                                                     [key], {});\n",
              "          if (!dataTable) return;\n",
              "\n",
              "          const docLinkHtml = 'Like what you see? Visit the ' +\n",
              "            '<a target=\"_blank\" href=https://colab.research.google.com/notebooks/data_table.ipynb>data table notebook</a>'\n",
              "            + ' to learn more about interactive tables.';\n",
              "          element.innerHTML = '';\n",
              "          dataTable['output_type'] = 'display_data';\n",
              "          await google.colab.output.renderOutput(dataTable, element);\n",
              "          const docLink = document.createElement('div');\n",
              "          docLink.innerHTML = docLinkHtml;\n",
              "          element.appendChild(docLink);\n",
              "        }\n",
              "      </script>\n",
              "    </div>\n",
              "  </div>\n",
              "  "
            ]
          },
          "metadata": {},
          "execution_count": 5
        }
      ]
    },
    {
      "cell_type": "code",
      "source": [
        "df1"
      ],
      "metadata": {
        "id": "Tj2kqPozLJmb",
        "colab": {
          "base_uri": "https://localhost:8080/",
          "height": 424
        },
        "outputId": "09eb4b59-4483-4822-d832-14fa5f47f336"
      },
      "execution_count": null,
      "outputs": [
        {
          "output_type": "execute_result",
          "data": {
            "text/plain": [
              "     Matricula                 Codinome Situação Data de Admissão  \\\n",
              "0          2.0  Pessoa Colaboradora 247    Ativo       2015-02-02   \n",
              "1          2.0  Pessoa Colaboradora 247    Ativo       2015-02-02   \n",
              "2          2.0  Pessoa Colaboradora 247    Ativo       2015-02-02   \n",
              "3          2.0  Pessoa Colaboradora 247    Ativo       2015-02-02   \n",
              "4          3.0   Pessoa Colaboradora 92    Ativo       2015-03-26   \n",
              "..         ...                      ...      ...              ...   \n",
              "334      447.0  Pessoa Colaboradora 274    Ativo       2020-12-23   \n",
              "335      448.0  Pessoa Colaboradora 279    Ativo       2021-05-26   \n",
              "336      448.0  Pessoa Colaboradora 279    Ativo       2021-05-26   \n",
              "337      460.0  Pessoa Colaboradora 267    Ativo       2020-12-23   \n",
              "338      460.0  Pessoa Colaboradora 267    Ativo       2020-12-23   \n",
              "\n",
              "    Data Vigência Alterou Função    Motivo  Novo Salario     Novo Cargo  \n",
              "0      2021-11-01            Sim  PROMOÇÃO      9000.000     Gerente Sr  \n",
              "1      2021-08-01            Não    MÉRITO      7000.000      Arquiteto  \n",
              "2      2020-11-01            Não    MÉRITO      6000.000      Arquiteto  \n",
              "3      2020-07-01            Sim  PROMOÇÃO      5200.000      Arquiteto  \n",
              "4      2022-02-01            Sim  PROMOÇÃO      8250.000     Gerente Sr  \n",
              "..            ...            ...       ...           ...            ...  \n",
              "334    2021-11-01            Sim  PROMOÇÃO      1616.210         Dev Jr  \n",
              "335    2022-04-01            Não    MÉRITO      3491.660   Funcional Pl  \n",
              "336    2022-02-01            Não    MÉRITO      3371.370         Dev Pl  \n",
              "337    2022-05-01            Não    MÉRITO      1716.480         Dev Jr  \n",
              "338    2021-11-01            Sim  PROMOÇÃO      1454.995         Dev Jr  \n",
              "\n",
              "[339 rows x 9 columns]"
            ],
            "text/html": [
              "\n",
              "  <div id=\"df-3300bf05-c36d-4ed0-93e5-fead81019170\">\n",
              "    <div class=\"colab-df-container\">\n",
              "      <div>\n",
              "<style scoped>\n",
              "    .dataframe tbody tr th:only-of-type {\n",
              "        vertical-align: middle;\n",
              "    }\n",
              "\n",
              "    .dataframe tbody tr th {\n",
              "        vertical-align: top;\n",
              "    }\n",
              "\n",
              "    .dataframe thead th {\n",
              "        text-align: right;\n",
              "    }\n",
              "</style>\n",
              "<table border=\"1\" class=\"dataframe\">\n",
              "  <thead>\n",
              "    <tr style=\"text-align: right;\">\n",
              "      <th></th>\n",
              "      <th>Matricula</th>\n",
              "      <th>Codinome</th>\n",
              "      <th>Situação</th>\n",
              "      <th>Data de Admissão</th>\n",
              "      <th>Data Vigência</th>\n",
              "      <th>Alterou Função</th>\n",
              "      <th>Motivo</th>\n",
              "      <th>Novo Salario</th>\n",
              "      <th>Novo Cargo</th>\n",
              "    </tr>\n",
              "  </thead>\n",
              "  <tbody>\n",
              "    <tr>\n",
              "      <th>0</th>\n",
              "      <td>2.0</td>\n",
              "      <td>Pessoa Colaboradora 247</td>\n",
              "      <td>Ativo</td>\n",
              "      <td>2015-02-02</td>\n",
              "      <td>2021-11-01</td>\n",
              "      <td>Sim</td>\n",
              "      <td>PROMOÇÃO</td>\n",
              "      <td>9000.000</td>\n",
              "      <td>Gerente Sr</td>\n",
              "    </tr>\n",
              "    <tr>\n",
              "      <th>1</th>\n",
              "      <td>2.0</td>\n",
              "      <td>Pessoa Colaboradora 247</td>\n",
              "      <td>Ativo</td>\n",
              "      <td>2015-02-02</td>\n",
              "      <td>2021-08-01</td>\n",
              "      <td>Não</td>\n",
              "      <td>MÉRITO</td>\n",
              "      <td>7000.000</td>\n",
              "      <td>Arquiteto</td>\n",
              "    </tr>\n",
              "    <tr>\n",
              "      <th>2</th>\n",
              "      <td>2.0</td>\n",
              "      <td>Pessoa Colaboradora 247</td>\n",
              "      <td>Ativo</td>\n",
              "      <td>2015-02-02</td>\n",
              "      <td>2020-11-01</td>\n",
              "      <td>Não</td>\n",
              "      <td>MÉRITO</td>\n",
              "      <td>6000.000</td>\n",
              "      <td>Arquiteto</td>\n",
              "    </tr>\n",
              "    <tr>\n",
              "      <th>3</th>\n",
              "      <td>2.0</td>\n",
              "      <td>Pessoa Colaboradora 247</td>\n",
              "      <td>Ativo</td>\n",
              "      <td>2015-02-02</td>\n",
              "      <td>2020-07-01</td>\n",
              "      <td>Sim</td>\n",
              "      <td>PROMOÇÃO</td>\n",
              "      <td>5200.000</td>\n",
              "      <td>Arquiteto</td>\n",
              "    </tr>\n",
              "    <tr>\n",
              "      <th>4</th>\n",
              "      <td>3.0</td>\n",
              "      <td>Pessoa Colaboradora 92</td>\n",
              "      <td>Ativo</td>\n",
              "      <td>2015-03-26</td>\n",
              "      <td>2022-02-01</td>\n",
              "      <td>Sim</td>\n",
              "      <td>PROMOÇÃO</td>\n",
              "      <td>8250.000</td>\n",
              "      <td>Gerente Sr</td>\n",
              "    </tr>\n",
              "    <tr>\n",
              "      <th>...</th>\n",
              "      <td>...</td>\n",
              "      <td>...</td>\n",
              "      <td>...</td>\n",
              "      <td>...</td>\n",
              "      <td>...</td>\n",
              "      <td>...</td>\n",
              "      <td>...</td>\n",
              "      <td>...</td>\n",
              "      <td>...</td>\n",
              "    </tr>\n",
              "    <tr>\n",
              "      <th>334</th>\n",
              "      <td>447.0</td>\n",
              "      <td>Pessoa Colaboradora 274</td>\n",
              "      <td>Ativo</td>\n",
              "      <td>2020-12-23</td>\n",
              "      <td>2021-11-01</td>\n",
              "      <td>Sim</td>\n",
              "      <td>PROMOÇÃO</td>\n",
              "      <td>1616.210</td>\n",
              "      <td>Dev Jr</td>\n",
              "    </tr>\n",
              "    <tr>\n",
              "      <th>335</th>\n",
              "      <td>448.0</td>\n",
              "      <td>Pessoa Colaboradora 279</td>\n",
              "      <td>Ativo</td>\n",
              "      <td>2021-05-26</td>\n",
              "      <td>2022-04-01</td>\n",
              "      <td>Não</td>\n",
              "      <td>MÉRITO</td>\n",
              "      <td>3491.660</td>\n",
              "      <td>Funcional Pl</td>\n",
              "    </tr>\n",
              "    <tr>\n",
              "      <th>336</th>\n",
              "      <td>448.0</td>\n",
              "      <td>Pessoa Colaboradora 279</td>\n",
              "      <td>Ativo</td>\n",
              "      <td>2021-05-26</td>\n",
              "      <td>2022-02-01</td>\n",
              "      <td>Não</td>\n",
              "      <td>MÉRITO</td>\n",
              "      <td>3371.370</td>\n",
              "      <td>Dev Pl</td>\n",
              "    </tr>\n",
              "    <tr>\n",
              "      <th>337</th>\n",
              "      <td>460.0</td>\n",
              "      <td>Pessoa Colaboradora 267</td>\n",
              "      <td>Ativo</td>\n",
              "      <td>2020-12-23</td>\n",
              "      <td>2022-05-01</td>\n",
              "      <td>Não</td>\n",
              "      <td>MÉRITO</td>\n",
              "      <td>1716.480</td>\n",
              "      <td>Dev Jr</td>\n",
              "    </tr>\n",
              "    <tr>\n",
              "      <th>338</th>\n",
              "      <td>460.0</td>\n",
              "      <td>Pessoa Colaboradora 267</td>\n",
              "      <td>Ativo</td>\n",
              "      <td>2020-12-23</td>\n",
              "      <td>2021-11-01</td>\n",
              "      <td>Sim</td>\n",
              "      <td>PROMOÇÃO</td>\n",
              "      <td>1454.995</td>\n",
              "      <td>Dev Jr</td>\n",
              "    </tr>\n",
              "  </tbody>\n",
              "</table>\n",
              "<p>339 rows × 9 columns</p>\n",
              "</div>\n",
              "      <button class=\"colab-df-convert\" onclick=\"convertToInteractive('df-3300bf05-c36d-4ed0-93e5-fead81019170')\"\n",
              "              title=\"Convert this dataframe to an interactive table.\"\n",
              "              style=\"display:none;\">\n",
              "        \n",
              "  <svg xmlns=\"http://www.w3.org/2000/svg\" height=\"24px\"viewBox=\"0 0 24 24\"\n",
              "       width=\"24px\">\n",
              "    <path d=\"M0 0h24v24H0V0z\" fill=\"none\"/>\n",
              "    <path d=\"M18.56 5.44l.94 2.06.94-2.06 2.06-.94-2.06-.94-.94-2.06-.94 2.06-2.06.94zm-11 1L8.5 8.5l.94-2.06 2.06-.94-2.06-.94L8.5 2.5l-.94 2.06-2.06.94zm10 10l.94 2.06.94-2.06 2.06-.94-2.06-.94-.94-2.06-.94 2.06-2.06.94z\"/><path d=\"M17.41 7.96l-1.37-1.37c-.4-.4-.92-.59-1.43-.59-.52 0-1.04.2-1.43.59L10.3 9.45l-7.72 7.72c-.78.78-.78 2.05 0 2.83L4 21.41c.39.39.9.59 1.41.59.51 0 1.02-.2 1.41-.59l7.78-7.78 2.81-2.81c.8-.78.8-2.07 0-2.86zM5.41 20L4 18.59l7.72-7.72 1.47 1.35L5.41 20z\"/>\n",
              "  </svg>\n",
              "      </button>\n",
              "      \n",
              "  <style>\n",
              "    .colab-df-container {\n",
              "      display:flex;\n",
              "      flex-wrap:wrap;\n",
              "      gap: 12px;\n",
              "    }\n",
              "\n",
              "    .colab-df-convert {\n",
              "      background-color: #E8F0FE;\n",
              "      border: none;\n",
              "      border-radius: 50%;\n",
              "      cursor: pointer;\n",
              "      display: none;\n",
              "      fill: #1967D2;\n",
              "      height: 32px;\n",
              "      padding: 0 0 0 0;\n",
              "      width: 32px;\n",
              "    }\n",
              "\n",
              "    .colab-df-convert:hover {\n",
              "      background-color: #E2EBFA;\n",
              "      box-shadow: 0px 1px 2px rgba(60, 64, 67, 0.3), 0px 1px 3px 1px rgba(60, 64, 67, 0.15);\n",
              "      fill: #174EA6;\n",
              "    }\n",
              "\n",
              "    [theme=dark] .colab-df-convert {\n",
              "      background-color: #3B4455;\n",
              "      fill: #D2E3FC;\n",
              "    }\n",
              "\n",
              "    [theme=dark] .colab-df-convert:hover {\n",
              "      background-color: #434B5C;\n",
              "      box-shadow: 0px 1px 3px 1px rgba(0, 0, 0, 0.15);\n",
              "      filter: drop-shadow(0px 1px 2px rgba(0, 0, 0, 0.3));\n",
              "      fill: #FFFFFF;\n",
              "    }\n",
              "  </style>\n",
              "\n",
              "      <script>\n",
              "        const buttonEl =\n",
              "          document.querySelector('#df-3300bf05-c36d-4ed0-93e5-fead81019170 button.colab-df-convert');\n",
              "        buttonEl.style.display =\n",
              "          google.colab.kernel.accessAllowed ? 'block' : 'none';\n",
              "\n",
              "        async function convertToInteractive(key) {\n",
              "          const element = document.querySelector('#df-3300bf05-c36d-4ed0-93e5-fead81019170');\n",
              "          const dataTable =\n",
              "            await google.colab.kernel.invokeFunction('convertToInteractive',\n",
              "                                                     [key], {});\n",
              "          if (!dataTable) return;\n",
              "\n",
              "          const docLinkHtml = 'Like what you see? Visit the ' +\n",
              "            '<a target=\"_blank\" href=https://colab.research.google.com/notebooks/data_table.ipynb>data table notebook</a>'\n",
              "            + ' to learn more about interactive tables.';\n",
              "          element.innerHTML = '';\n",
              "          dataTable['output_type'] = 'display_data';\n",
              "          await google.colab.output.renderOutput(dataTable, element);\n",
              "          const docLink = document.createElement('div');\n",
              "          docLink.innerHTML = docLinkHtml;\n",
              "          element.appendChild(docLink);\n",
              "        }\n",
              "      </script>\n",
              "    </div>\n",
              "  </div>\n",
              "  "
            ]
          },
          "metadata": {},
          "execution_count": 6
        }
      ]
    },
    {
      "cell_type": "code",
      "source": [
        "df2"
      ],
      "metadata": {
        "id": "sf4MG2RIwcvM",
        "colab": {
          "base_uri": "https://localhost:8080/",
          "height": 815
        },
        "outputId": "b14d0dc1-b265-439f-af32-d31b919ce00b"
      },
      "execution_count": null,
      "outputs": [
        {
          "output_type": "execute_result",
          "data": {
            "text/plain": [
              "        Divisao                        Pilar Pontuação  \\\n",
              "0     Everymind  Relacionamento com o gestor      9,05   \n",
              "1     Everymind  Relacionamento com o gestor      9,05   \n",
              "2     Everymind  Relacionamento com o gestor      9,05   \n",
              "3     Everymind  Relacionamento com o gestor      9,05   \n",
              "4     Everymind  Relacionamento com o gestor      9,05   \n",
              "...         ...                          ...       ...   \n",
              "1689     Vendas                     Feedback      8,62   \n",
              "1690     Vendas                     Feedback      8,62   \n",
              "1691     Vendas                     Feedback      8,62   \n",
              "1692     Vendas                     Feedback      8,62   \n",
              "1693     Vendas                     Feedback      8,62   \n",
              "\n",
              "                         Fator Pontuação.1  \\\n",
              "0     Colaboração com o gestor        8,81   \n",
              "1     Colaboração com o gestor        8,81   \n",
              "2     Colaboração com o gestor        8,81   \n",
              "3     Colaboração com o gestor        8,81   \n",
              "4          Confiança no gestor        9,44   \n",
              "...                        ...         ...   \n",
              "1689                 Qualidade        8,12   \n",
              "1690                Frequência           9   \n",
              "1691                Frequência           9   \n",
              "1692                Frequência           9   \n",
              "1693                Frequência           9   \n",
              "\n",
              "                                               Pergunta  Pulou  \\\n",
              "0               Como é trabalhar com seu gestor direto?  1.69%   \n",
              "1     Quando você pede ajuda ao seu gestor direto, e...  1.18%   \n",
              "2     Meu gestor direto ouve e é empático com a minh...  3.13%   \n",
              "3     O seu gestor direto participa ativamente de fo...  1.04%   \n",
              "4     Meu gestor direto é alguém em quem posso confiar.    NaN   \n",
              "...                                                 ...    ...   \n",
              "1689  Existe abertura para dar e receber feedbacks c...    NaN   \n",
              "1690  A frequência dos feedbacks que recebo é sufici...    NaN   \n",
              "1691  Estou satisfeito com a frequência do feedback ...    NaN   \n",
              "1692  Você está satisfeito com a frequência de feedb...    NaN   \n",
              "1693  Qual das seguintes opções descreve melhor a qu...    NaN   \n",
              "\n",
              "     Muito Insatisfeito Insatisfeito  Neutro Satisfeito Muito Satisfeito  \\\n",
              "0                   NaN          NaN   3.39%     16.95%           77.97%   \n",
              "1                   NaN        1.18%   3.53%     27.06%           67.06%   \n",
              "2                   NaN          NaN   7.29%     27.08%            62.5%   \n",
              "3                 1.04%        1.04%   7.29%     40.63%           48.96%   \n",
              "4                   NaN          NaN  33.33%     16.67%              50%   \n",
              "...                 ...          ...     ...        ...              ...   \n",
              "1689                NaN          NaN     NaN        NaN             100%   \n",
              "1690                NaN          NaN     NaN        NaN             100%   \n",
              "1691                NaN          NaN     NaN        NaN              NaN   \n",
              "1692                NaN          NaN     NaN     66.67%           33.33%   \n",
              "1693                NaN          NaN     NaN     33.33%           66.67%   \n",
              "\n",
              "     Taxa de Confiabilidade  \n",
              "0                     Baixo  \n",
              "1                     Baixo  \n",
              "2                     Baixo  \n",
              "3                     Baixo  \n",
              "4               Muito Baixo  \n",
              "...                     ...  \n",
              "1689            Muito Baixo  \n",
              "1690                  Baixo  \n",
              "1691            Muito Baixo  \n",
              "1692                  Baixo  \n",
              "1693                  Baixo  \n",
              "\n",
              "[1694 rows x 13 columns]"
            ],
            "text/html": [
              "\n",
              "  <div id=\"df-788c6f1b-90ad-4381-b9b7-67b2563d380b\">\n",
              "    <div class=\"colab-df-container\">\n",
              "      <div>\n",
              "<style scoped>\n",
              "    .dataframe tbody tr th:only-of-type {\n",
              "        vertical-align: middle;\n",
              "    }\n",
              "\n",
              "    .dataframe tbody tr th {\n",
              "        vertical-align: top;\n",
              "    }\n",
              "\n",
              "    .dataframe thead th {\n",
              "        text-align: right;\n",
              "    }\n",
              "</style>\n",
              "<table border=\"1\" class=\"dataframe\">\n",
              "  <thead>\n",
              "    <tr style=\"text-align: right;\">\n",
              "      <th></th>\n",
              "      <th>Divisao</th>\n",
              "      <th>Pilar</th>\n",
              "      <th>Pontuação</th>\n",
              "      <th>Fator</th>\n",
              "      <th>Pontuação.1</th>\n",
              "      <th>Pergunta</th>\n",
              "      <th>Pulou</th>\n",
              "      <th>Muito Insatisfeito</th>\n",
              "      <th>Insatisfeito</th>\n",
              "      <th>Neutro</th>\n",
              "      <th>Satisfeito</th>\n",
              "      <th>Muito Satisfeito</th>\n",
              "      <th>Taxa de Confiabilidade</th>\n",
              "    </tr>\n",
              "  </thead>\n",
              "  <tbody>\n",
              "    <tr>\n",
              "      <th>0</th>\n",
              "      <td>Everymind</td>\n",
              "      <td>Relacionamento com o gestor</td>\n",
              "      <td>9,05</td>\n",
              "      <td>Colaboração com o gestor</td>\n",
              "      <td>8,81</td>\n",
              "      <td>Como é trabalhar com seu gestor direto?</td>\n",
              "      <td>1.69%</td>\n",
              "      <td>NaN</td>\n",
              "      <td>NaN</td>\n",
              "      <td>3.39%</td>\n",
              "      <td>16.95%</td>\n",
              "      <td>77.97%</td>\n",
              "      <td>Baixo</td>\n",
              "    </tr>\n",
              "    <tr>\n",
              "      <th>1</th>\n",
              "      <td>Everymind</td>\n",
              "      <td>Relacionamento com o gestor</td>\n",
              "      <td>9,05</td>\n",
              "      <td>Colaboração com o gestor</td>\n",
              "      <td>8,81</td>\n",
              "      <td>Quando você pede ajuda ao seu gestor direto, e...</td>\n",
              "      <td>1.18%</td>\n",
              "      <td>NaN</td>\n",
              "      <td>1.18%</td>\n",
              "      <td>3.53%</td>\n",
              "      <td>27.06%</td>\n",
              "      <td>67.06%</td>\n",
              "      <td>Baixo</td>\n",
              "    </tr>\n",
              "    <tr>\n",
              "      <th>2</th>\n",
              "      <td>Everymind</td>\n",
              "      <td>Relacionamento com o gestor</td>\n",
              "      <td>9,05</td>\n",
              "      <td>Colaboração com o gestor</td>\n",
              "      <td>8,81</td>\n",
              "      <td>Meu gestor direto ouve e é empático com a minh...</td>\n",
              "      <td>3.13%</td>\n",
              "      <td>NaN</td>\n",
              "      <td>NaN</td>\n",
              "      <td>7.29%</td>\n",
              "      <td>27.08%</td>\n",
              "      <td>62.5%</td>\n",
              "      <td>Baixo</td>\n",
              "    </tr>\n",
              "    <tr>\n",
              "      <th>3</th>\n",
              "      <td>Everymind</td>\n",
              "      <td>Relacionamento com o gestor</td>\n",
              "      <td>9,05</td>\n",
              "      <td>Colaboração com o gestor</td>\n",
              "      <td>8,81</td>\n",
              "      <td>O seu gestor direto participa ativamente de fo...</td>\n",
              "      <td>1.04%</td>\n",
              "      <td>1.04%</td>\n",
              "      <td>1.04%</td>\n",
              "      <td>7.29%</td>\n",
              "      <td>40.63%</td>\n",
              "      <td>48.96%</td>\n",
              "      <td>Baixo</td>\n",
              "    </tr>\n",
              "    <tr>\n",
              "      <th>4</th>\n",
              "      <td>Everymind</td>\n",
              "      <td>Relacionamento com o gestor</td>\n",
              "      <td>9,05</td>\n",
              "      <td>Confiança no gestor</td>\n",
              "      <td>9,44</td>\n",
              "      <td>Meu gestor direto é alguém em quem posso confiar.</td>\n",
              "      <td>NaN</td>\n",
              "      <td>NaN</td>\n",
              "      <td>NaN</td>\n",
              "      <td>33.33%</td>\n",
              "      <td>16.67%</td>\n",
              "      <td>50%</td>\n",
              "      <td>Muito Baixo</td>\n",
              "    </tr>\n",
              "    <tr>\n",
              "      <th>...</th>\n",
              "      <td>...</td>\n",
              "      <td>...</td>\n",
              "      <td>...</td>\n",
              "      <td>...</td>\n",
              "      <td>...</td>\n",
              "      <td>...</td>\n",
              "      <td>...</td>\n",
              "      <td>...</td>\n",
              "      <td>...</td>\n",
              "      <td>...</td>\n",
              "      <td>...</td>\n",
              "      <td>...</td>\n",
              "      <td>...</td>\n",
              "    </tr>\n",
              "    <tr>\n",
              "      <th>1689</th>\n",
              "      <td>Vendas</td>\n",
              "      <td>Feedback</td>\n",
              "      <td>8,62</td>\n",
              "      <td>Qualidade</td>\n",
              "      <td>8,12</td>\n",
              "      <td>Existe abertura para dar e receber feedbacks c...</td>\n",
              "      <td>NaN</td>\n",
              "      <td>NaN</td>\n",
              "      <td>NaN</td>\n",
              "      <td>NaN</td>\n",
              "      <td>NaN</td>\n",
              "      <td>100%</td>\n",
              "      <td>Muito Baixo</td>\n",
              "    </tr>\n",
              "    <tr>\n",
              "      <th>1690</th>\n",
              "      <td>Vendas</td>\n",
              "      <td>Feedback</td>\n",
              "      <td>8,62</td>\n",
              "      <td>Frequência</td>\n",
              "      <td>9</td>\n",
              "      <td>A frequência dos feedbacks que recebo é sufici...</td>\n",
              "      <td>NaN</td>\n",
              "      <td>NaN</td>\n",
              "      <td>NaN</td>\n",
              "      <td>NaN</td>\n",
              "      <td>NaN</td>\n",
              "      <td>100%</td>\n",
              "      <td>Baixo</td>\n",
              "    </tr>\n",
              "    <tr>\n",
              "      <th>1691</th>\n",
              "      <td>Vendas</td>\n",
              "      <td>Feedback</td>\n",
              "      <td>8,62</td>\n",
              "      <td>Frequência</td>\n",
              "      <td>9</td>\n",
              "      <td>Estou satisfeito com a frequência do feedback ...</td>\n",
              "      <td>NaN</td>\n",
              "      <td>NaN</td>\n",
              "      <td>NaN</td>\n",
              "      <td>NaN</td>\n",
              "      <td>NaN</td>\n",
              "      <td>NaN</td>\n",
              "      <td>Muito Baixo</td>\n",
              "    </tr>\n",
              "    <tr>\n",
              "      <th>1692</th>\n",
              "      <td>Vendas</td>\n",
              "      <td>Feedback</td>\n",
              "      <td>8,62</td>\n",
              "      <td>Frequência</td>\n",
              "      <td>9</td>\n",
              "      <td>Você está satisfeito com a frequência de feedb...</td>\n",
              "      <td>NaN</td>\n",
              "      <td>NaN</td>\n",
              "      <td>NaN</td>\n",
              "      <td>NaN</td>\n",
              "      <td>66.67%</td>\n",
              "      <td>33.33%</td>\n",
              "      <td>Baixo</td>\n",
              "    </tr>\n",
              "    <tr>\n",
              "      <th>1693</th>\n",
              "      <td>Vendas</td>\n",
              "      <td>Feedback</td>\n",
              "      <td>8,62</td>\n",
              "      <td>Frequência</td>\n",
              "      <td>9</td>\n",
              "      <td>Qual das seguintes opções descreve melhor a qu...</td>\n",
              "      <td>NaN</td>\n",
              "      <td>NaN</td>\n",
              "      <td>NaN</td>\n",
              "      <td>NaN</td>\n",
              "      <td>33.33%</td>\n",
              "      <td>66.67%</td>\n",
              "      <td>Baixo</td>\n",
              "    </tr>\n",
              "  </tbody>\n",
              "</table>\n",
              "<p>1694 rows × 13 columns</p>\n",
              "</div>\n",
              "      <button class=\"colab-df-convert\" onclick=\"convertToInteractive('df-788c6f1b-90ad-4381-b9b7-67b2563d380b')\"\n",
              "              title=\"Convert this dataframe to an interactive table.\"\n",
              "              style=\"display:none;\">\n",
              "        \n",
              "  <svg xmlns=\"http://www.w3.org/2000/svg\" height=\"24px\"viewBox=\"0 0 24 24\"\n",
              "       width=\"24px\">\n",
              "    <path d=\"M0 0h24v24H0V0z\" fill=\"none\"/>\n",
              "    <path d=\"M18.56 5.44l.94 2.06.94-2.06 2.06-.94-2.06-.94-.94-2.06-.94 2.06-2.06.94zm-11 1L8.5 8.5l.94-2.06 2.06-.94-2.06-.94L8.5 2.5l-.94 2.06-2.06.94zm10 10l.94 2.06.94-2.06 2.06-.94-2.06-.94-.94-2.06-.94 2.06-2.06.94z\"/><path d=\"M17.41 7.96l-1.37-1.37c-.4-.4-.92-.59-1.43-.59-.52 0-1.04.2-1.43.59L10.3 9.45l-7.72 7.72c-.78.78-.78 2.05 0 2.83L4 21.41c.39.39.9.59 1.41.59.51 0 1.02-.2 1.41-.59l7.78-7.78 2.81-2.81c.8-.78.8-2.07 0-2.86zM5.41 20L4 18.59l7.72-7.72 1.47 1.35L5.41 20z\"/>\n",
              "  </svg>\n",
              "      </button>\n",
              "      \n",
              "  <style>\n",
              "    .colab-df-container {\n",
              "      display:flex;\n",
              "      flex-wrap:wrap;\n",
              "      gap: 12px;\n",
              "    }\n",
              "\n",
              "    .colab-df-convert {\n",
              "      background-color: #E8F0FE;\n",
              "      border: none;\n",
              "      border-radius: 50%;\n",
              "      cursor: pointer;\n",
              "      display: none;\n",
              "      fill: #1967D2;\n",
              "      height: 32px;\n",
              "      padding: 0 0 0 0;\n",
              "      width: 32px;\n",
              "    }\n",
              "\n",
              "    .colab-df-convert:hover {\n",
              "      background-color: #E2EBFA;\n",
              "      box-shadow: 0px 1px 2px rgba(60, 64, 67, 0.3), 0px 1px 3px 1px rgba(60, 64, 67, 0.15);\n",
              "      fill: #174EA6;\n",
              "    }\n",
              "\n",
              "    [theme=dark] .colab-df-convert {\n",
              "      background-color: #3B4455;\n",
              "      fill: #D2E3FC;\n",
              "    }\n",
              "\n",
              "    [theme=dark] .colab-df-convert:hover {\n",
              "      background-color: #434B5C;\n",
              "      box-shadow: 0px 1px 3px 1px rgba(0, 0, 0, 0.15);\n",
              "      filter: drop-shadow(0px 1px 2px rgba(0, 0, 0, 0.3));\n",
              "      fill: #FFFFFF;\n",
              "    }\n",
              "  </style>\n",
              "\n",
              "      <script>\n",
              "        const buttonEl =\n",
              "          document.querySelector('#df-788c6f1b-90ad-4381-b9b7-67b2563d380b button.colab-df-convert');\n",
              "        buttonEl.style.display =\n",
              "          google.colab.kernel.accessAllowed ? 'block' : 'none';\n",
              "\n",
              "        async function convertToInteractive(key) {\n",
              "          const element = document.querySelector('#df-788c6f1b-90ad-4381-b9b7-67b2563d380b');\n",
              "          const dataTable =\n",
              "            await google.colab.kernel.invokeFunction('convertToInteractive',\n",
              "                                                     [key], {});\n",
              "          if (!dataTable) return;\n",
              "\n",
              "          const docLinkHtml = 'Like what you see? Visit the ' +\n",
              "            '<a target=\"_blank\" href=https://colab.research.google.com/notebooks/data_table.ipynb>data table notebook</a>'\n",
              "            + ' to learn more about interactive tables.';\n",
              "          element.innerHTML = '';\n",
              "          dataTable['output_type'] = 'display_data';\n",
              "          await google.colab.output.renderOutput(dataTable, element);\n",
              "          const docLink = document.createElement('div');\n",
              "          docLink.innerHTML = docLinkHtml;\n",
              "          element.appendChild(docLink);\n",
              "        }\n",
              "      </script>\n",
              "    </div>\n",
              "  </div>\n",
              "  "
            ]
          },
          "metadata": {},
          "execution_count": 25
        }
      ]
    },
    {
      "cell_type": "markdown",
      "source": [
        "## Visualização dos tipos das colunas\n",
        "\n",
        "\n",
        "\n",
        "\n",
        "\n"
      ],
      "metadata": {
        "id": "U1DQ6naKi5MV"
      }
    },
    {
      "cell_type": "markdown",
      "source": [
        "As colunas apresentadas em ambas as tabelas disponibilizadas possuem tipos diferentes de formatação, sendo divididos em: \n",
        "\n",
        "1. **float** : Responsável por armazenar números reais com precisão de 6 casas decimais; \n",
        "2. **object** : Responsável por armazenar qualquer tipo de dado genêrico, utilizado para representar características abstratas;\n",
        "3. **datetime** : Responsável pelo armazenamento de datas e horas;\n",
        "\n",
        "Os códigos abaixos apresentam os tipos encontrados nas planilhas, respectivamente:\n",
        "\n",
        "\n",
        "1. Everymind\n",
        "2. Reconhecimento; \n",
        "3. Ambiente de Trabalho;"
      ],
      "metadata": {
        "id": "6W3hF-Upw6v9"
      }
    },
    {
      "cell_type": "code",
      "source": [
        "df.dtypes"
      ],
      "metadata": {
        "id": "W9FrtM9ei8s-",
        "colab": {
          "base_uri": "https://localhost:8080/"
        },
        "outputId": "7e2a23ac-930c-4635-9e90-7bbe7c69ec14"
      },
      "execution_count": null,
      "outputs": [
        {
          "output_type": "execute_result",
          "data": {
            "text/plain": [
              "Matrícula               float64\n",
              "Nome Completo            object\n",
              "Dt Admissao              object\n",
              "Dt Saida         datetime64[ns]\n",
              "Tipo Saida               object\n",
              "Cargo                    object\n",
              "Salario Mês             float64\n",
              "Dt Nascimento    datetime64[ns]\n",
              "Genero                   object\n",
              "Etnia                    object\n",
              "Estado Civil             object\n",
              "Escolaridade             object\n",
              "Estado                   object\n",
              "Cidade                   object\n",
              "Area                     object\n",
              "dtype: object"
            ]
          },
          "metadata": {},
          "execution_count": 8
        }
      ]
    },
    {
      "cell_type": "code",
      "source": [
        "df1.dtypes"
      ],
      "metadata": {
        "id": "pEp3w8FcjAFY",
        "colab": {
          "base_uri": "https://localhost:8080/"
        },
        "outputId": "e3f7b6e8-448d-42e3-b404-7bed50e69468"
      },
      "execution_count": null,
      "outputs": [
        {
          "output_type": "execute_result",
          "data": {
            "text/plain": [
              "Matricula                  float64\n",
              "Codinome                    object\n",
              "Situação                    object\n",
              "Data de Admissão    datetime64[ns]\n",
              "Data Vigência       datetime64[ns]\n",
              "Alterou Função              object\n",
              "Motivo                      object\n",
              "Novo Salario               float64\n",
              "Novo Cargo                  object\n",
              "dtype: object"
            ]
          },
          "metadata": {},
          "execution_count": 9
        }
      ]
    },
    {
      "cell_type": "code",
      "source": [
        "df2.dtypes"
      ],
      "metadata": {
        "colab": {
          "base_uri": "https://localhost:8080/"
        },
        "id": "GSgYhH1VwKYY",
        "outputId": "0c30436f-5962-4901-8f14-b8e363385279"
      },
      "execution_count": null,
      "outputs": [
        {
          "output_type": "execute_result",
          "data": {
            "text/plain": [
              "Divisao                   object\n",
              "Pilar                     object\n",
              "Pontuação                 object\n",
              "Fator                     object\n",
              "Pontuação.1               object\n",
              "Pergunta                  object\n",
              "Pulou                     object\n",
              "Muito Insatisfeito        object\n",
              "Insatisfeito              object\n",
              "Neutro                    object\n",
              "Satisfeito                object\n",
              "Muito Satisfeito          object\n",
              "Taxa de Confiabilidade    object\n",
              "dtype: object"
            ]
          },
          "metadata": {},
          "execution_count": 10
        }
      ]
    },
    {
      "cell_type": "markdown",
      "source": [
        "## Exclusão de espaços em branco "
      ],
      "metadata": {
        "id": "-k36HOk8EuMZ"
      }
    },
    {
      "cell_type": "markdown",
      "source": [
        "Algumas colunas apresentavam espaços em branco, o que dificulta a manipulação durante o pré-processamento e manipulação dos dados. Sendo asism, o método replace() foi utilizado para substituir uma eventualidade encontrada em uma das strings da base de dados. \n",
        "\n",
        "1. Abaixo apresenta-se as colunas da planilha \"Everymind\" que foram necessárias retirar os espaços em branco;"
      ],
      "metadata": {
        "id": "8AywP5NTE2bv"
      }
    },
    {
      "cell_type": "code",
      "source": [
        "#Atribuição de todas as colunas que possuem o tipo objeto a variável criada\n",
        "espaco_nulo_everymind = df.select_dtypes(include = 'object').columns \n",
        "\n",
        "#O comando é responsável por percorrer todas as linhas das colunas selecionadas e fazer a alteração de onde possui espaço em branco inserir nenhum espaço\n",
        "for i in espaco_nulo_everymind:\n",
        "  df[i] = df[i].str.replace(' ','')"
      ],
      "metadata": {
        "id": "A4KBSodkEty_"
      },
      "execution_count": null,
      "outputs": []
    },
    {
      "cell_type": "code",
      "source": [
        "df"
      ],
      "metadata": {
        "id": "q3rVWTJ_iNg1"
      },
      "execution_count": null,
      "outputs": []
    },
    {
      "cell_type": "markdown",
      "source": [
        "2. Abaixo apresenta-se as colunas da planilha \"Reconhecimento\" que foram necessárias retirar os espaços em branco;"
      ],
      "metadata": {
        "id": "R2zN30jsgQ5W"
      }
    },
    {
      "cell_type": "code",
      "source": [
        "#Atribuição de todas as colunas que possuem o tipo objeto a variável criada\n",
        "espaco_nulo_reconhecimento = df1.select_dtypes(include = 'object').columns \n",
        "\n",
        "#O comando é responsável por percorrer todas as linhas das colunas selecionadas e fazer a alteração de onde possui espaço em branco inserir nenhum espaço\n",
        "for i in espaco_nulo_reconhecimento:\n",
        "  df1[i] = df1[i].str.replace(' ','')"
      ],
      "metadata": {
        "id": "s_QkRS0kgY6_"
      },
      "execution_count": null,
      "outputs": []
    },
    {
      "cell_type": "code",
      "source": [
        "df1"
      ],
      "metadata": {
        "id": "PzAf24TqiOgy"
      },
      "execution_count": null,
      "outputs": []
    },
    {
      "cell_type": "markdown",
      "source": [
        "3. Abaixo apresenta-se as colunas da planilha \"Ambiente de Trabalho 27.07\" que foram necessárias retirar os espaços em branco;"
      ],
      "metadata": {
        "id": "5s8-oAWoxesn"
      }
    },
    {
      "cell_type": "code",
      "source": [
        "#Atribuição de todas as colunas que possuem o tipo objeto a variável criada\n",
        "espaco_nulo_ambiente = df2.select_dtypes(include = 'object').columns \n",
        "\n",
        "#O comando é responsável por percorrer todas as linhas das colunas selecionadas e fazer a alteração de onde possui espaço em branco inserir nenhum espaço\n",
        "for i in espaco_nulo_ambiente:\n",
        "  df2[i] = df2[i].str.replace(' ','')"
      ],
      "metadata": {
        "id": "P_m1TbfixdEx"
      },
      "execution_count": null,
      "outputs": []
    },
    {
      "cell_type": "code",
      "source": [
        "df2"
      ],
      "metadata": {
        "id": "YnSJArpFxxf_"
      },
      "execution_count": null,
      "outputs": []
    },
    {
      "cell_type": "markdown",
      "source": [
        "## Adição de valores nos espaços sem informações"
      ],
      "metadata": {
        "id": "-B4MJs9mPnmo"
      }
    },
    {
      "cell_type": "markdown",
      "source": [
        "Algumas colunas apresentavam valores faltantes, resultando em uma qualidade de dados de difícil análise. Ao contemplar o tipo de saída esperada, calculou-se as entradas prováveis das variáveis a serem manipuladas."
      ],
      "metadata": {
        "id": "IB9Bi2WaQSk0"
      }
    },
    {
      "cell_type": "markdown",
      "source": [
        "\n",
        "1.   Coluna \"Tipo Saída\" - Planilha Everymind\n",
        "\n",
        "Os dados comtemplados na coluna, são responsáveis por exibir qual tipo de saída o funcionário teve ao deixar a empresa. Nos campos em branco, foi inserido a palavra \"Ativo\", pois quer dizer que aquele funcionário ainda trabalha na empresa. "
      ],
      "metadata": {
        "id": "jdn3aDMvdU--"
      }
    },
    {
      "cell_type": "code",
      "source": [
        "##O comando é responsável por atribuir a coluna selecionada o valor \"Ativo\", somente nos campos vazios\n",
        "df['Tipo Saida'] = df['Tipo Saida'].replace(np.NaN,'Ativo')"
      ],
      "metadata": {
        "id": "xl9gUZr8QS9c"
      },
      "execution_count": null,
      "outputs": []
    },
    {
      "cell_type": "markdown",
      "source": [
        "2. Coluna \"Dt Saída\" - Planilha Everymind\n",
        "\n",
        "Os dados comtemplados na coluna, são responsáveis por exibir a data de saída do funcionário da empresa. Nos campos em branco, foi inserido a data atual (dia em que estamos), pois quer dizer que aquele funcionário ainda trabalha na empresa."
      ],
      "metadata": {
        "id": "XXFqifm5ecun"
      }
    },
    {
      "cell_type": "code",
      "source": [
        "#O comando é responsável por atribuir a coluna selecionada o valor da data atual, somente nos campos vazios\n",
        "df['Dt Saida'] = df['Dt Saida'].replace(np.NaN, date.today()) "
      ],
      "metadata": {
        "id": "h8KpB-tdQZYG"
      },
      "execution_count": null,
      "outputs": []
    },
    {
      "cell_type": "markdown",
      "source": [
        "3. Coluna \"Pulou\" - Planilha Ambiente de Trabalho\n",
        "\n",
        "Os dados contemplados na coluna \"Pulou\", são responsáveis por exibir a quantidade de funcionarios que pularam a pergunta feita à eles. Nos campos em branco, foi inserido o numero 0 (devido ao fato que ninguem pulou a pergunta), assim deixando todos os dados do mesmo padrão.\n",
        "\n",
        "\n",
        "\n",
        "*   **Observação:** O comando \"isnull()\" apresentado abaixo é utilizado para verificar quais linhas da coluna selecionada estão em branco.\n",
        "\n"
      ],
      "metadata": {
        "id": "9GziDtr4Qk4m"
      }
    },
    {
      "cell_type": "code",
      "source": [
        "#Definindo uma variável que recebe todos os valores nulos da coluna \"Pulou\"\n",
        "pulou_valores_nulos = df2['Pulou'].isnull()\n",
        "\n",
        "#Definindo uma variável que recebe todos os valores presentes na coluna \"Pulou\"\n",
        "pulou_valores = df2['Pulou']\n",
        "\n",
        "#O for percorre as linhas de zero até a quantidade de linhas presente na variável \"pulou_valores_nulos\"\n",
        "for i in range(0,len(pulou_valores_nulos)):\n",
        "\n",
        "  #Se a linha de df2 que estiver sendo analisada for nula\n",
        "  if pulou_valores_nulos[i] == True:\n",
        "    #Adiciona o valor zero a linha selecionada\n",
        "    pulou_valores_nulos[i] = \"0\"\n",
        "\n",
        "  # #Se a linha de df2 que estiver sendo analisada não for nula \n",
        "  if pulou_valores_nulos[i] == False: \n",
        "    #Permanece o valor que já estava na linha \n",
        "    pulou_valores_nulos[i] = (pulou_valores[i])"
      ],
      "metadata": {
        "id": "PavHArP6QlRy"
      },
      "execution_count": null,
      "outputs": []
    },
    {
      "cell_type": "markdown",
      "source": [
        "O comando abaixo ilustra como a tabela \"Ambiente de trabalho\" ficou após a inclusão do número 0 (zero) nos espaços em branco."
      ],
      "metadata": {
        "id": "BfUoxQ1qd6ZP"
      }
    },
    {
      "cell_type": "code",
      "source": [
        "pulou_valores_nulos"
      ],
      "metadata": {
        "id": "7fUe8Cq2d6ii"
      },
      "execution_count": null,
      "outputs": []
    },
    {
      "cell_type": "markdown",
      "source": [
        "Os dados contemplados na coluna \"Muito Insatisfeito\" são responsáveis por exibir a quantidade de funcionarios que estavam muito insatisfeitos com a questão levantada na pergunta feita à eles. Nos campos em branco, foi inserido o numero 0 (devido ao fato que a pergunta não foi respondida), assim deixando todos os dados do mesmo padrão."
      ],
      "metadata": {
        "id": "fwRtUrX-QrXp"
      }
    },
    {
      "cell_type": "code",
      "source": [
        "#Definindo uma variável que recebe todos os valores nulos da coluna \"Muito Insatisfeito\"\n",
        "Minsatisfeito_valores_nulos = df2['Muito Insatisfeito'].isnull()\n",
        "\n",
        "#Definindo uma variável que recebe todos os valores presentes na coluna \"Muito Insatisfeito\"\n",
        "Minsatisfeito_valores = df2['Muito Insatisfeito']\n",
        "\n",
        "#O for percorre as linhas de zero até a quantidade de linhas presente na variável \"Minsatisfeito_valores_nulos\"\n",
        "for i in range(0,len(Minsatisfeito_valores_nulos)):\n",
        "\n",
        "  #Se a linha de df2 que estiver sendo analisada for nula\n",
        "  if Minsatisfeito_valores_nulos[i] == True:\n",
        "    #Adiciona o valor zero a linha selecionada\n",
        "    Minsatisfeito_valores_nulos[i] = \"0\"\n",
        "\n",
        "  # #Se a linha de df2 que estiver sendo analisada não for nula \n",
        "  if Minsatisfeito_valores_nulos[i] == False: \n",
        "    #Permanece o valor que já estava na linha \n",
        "    Minsatisfeito_valores_nulos[i] = (Minsatisfeito_valores[i])"
      ],
      "metadata": {
        "id": "qxNhlDX0QsTa"
      },
      "execution_count": null,
      "outputs": []
    },
    {
      "cell_type": "markdown",
      "source": [
        "O comando abaixo ilustra como a tabela \"Ambiente de trabalho\" ficou após a inclusão do número 0 (zero) nos espaços em branco."
      ],
      "metadata": {
        "id": "94OlbXrog-PR"
      }
    },
    {
      "cell_type": "code",
      "source": [
        "Minsatisfeito_valores_nulos"
      ],
      "metadata": {
        "id": "fKu-j5p_g-cF"
      },
      "execution_count": null,
      "outputs": []
    },
    {
      "cell_type": "markdown",
      "source": [
        "Os dados contemplados na coluna \"Insatisfeito\" são responsáveis por exibir a quantidade de funcionarios que estavam insatisfeitos com a questão levantada na pergunta feita à eles. Nos campos em branco, foi inserido o numero 0 (devido ao fato que a pergunta não foi respondida), assim deixando todos os dados do mesmo padrão."
      ],
      "metadata": {
        "id": "-jozeXMFQv5q"
      }
    },
    {
      "cell_type": "code",
      "source": [
        "#Definindo uma variável que recebe todos os valores nulos da coluna \"Insatisfeito\"\n",
        "insatisfeito_valores_nulos = df2['Insatisfeito'].isnull()\n",
        "\n",
        "#Definindo uma variável que recebe todos os valores presentes na coluna \"Insatisfeito\"\n",
        "insatisfeito_valores = df2['Insatisfeito']\n",
        "\n",
        "#O for percorre as linhas de zero até a quantidade de linhas presente na variável \"insatisfeito_valores_nulos\"\n",
        "for i in range(0,len(insatisfeito_valores_nulos)):\n",
        "\n",
        "  #Se a linha de df2 que estiver sendo analisada for nula\n",
        "  if insatisfeito_valores_nulos[i] == True:\n",
        "    #Adiciona o valor zero a linha selecionada\n",
        "    insatisfeito_valores_nulos[i] = \"0\"\n",
        "\n",
        "  # #Se a linha de df2 que estiver sendo analisada não for nula \n",
        "  if insatisfeito_valores_nulos[i] == False: \n",
        "    #Permanece o valor que já estava na linha \n",
        "    insatisfeito_valores_nulos[i] = (insatisfeito_valores[i])"
      ],
      "metadata": {
        "id": "zPYrBx3VQwJV"
      },
      "execution_count": null,
      "outputs": []
    },
    {
      "cell_type": "markdown",
      "source": [
        "O comando abaixo ilustra como a tabela \"Ambiente de trabalho\" ficou após a inclusão do número 0 (zero) nos espaços em branco."
      ],
      "metadata": {
        "id": "8LPHMPyJiMyl"
      }
    },
    {
      "cell_type": "code",
      "source": [
        "insatisfeito_valores_nulos"
      ],
      "metadata": {
        "id": "yAWLw5MpiM-n"
      },
      "execution_count": null,
      "outputs": []
    },
    {
      "cell_type": "markdown",
      "source": [
        "Os dados contemplados na coluna \"Neutro\" são responsáveis por exibir a quantidade de funcionarios que estavam neutros com a questão levantada na pergunta feita à eles. Nos campos em branco, foi inserido o numero 0 (devido ao fato que a pergunta não foi respondida), assim deixando todos os dados do mesmo padrão."
      ],
      "metadata": {
        "id": "UjnTm3goQzX_"
      }
    },
    {
      "cell_type": "code",
      "source": [
        "#Definindo uma variável que recebe todos os valores nulos da coluna \"Neutro\"\n",
        "neutro_valores_nulos = df2['Neutro'].isnull()\n",
        "\n",
        "#Definindo uma variável que recebe todos os valores presentes na coluna \"Neutro\"\n",
        "neutro_valores = df2['Neutro']\n",
        "\n",
        "#O for percorre as linhas de zero até a quantidade de linhas presente na variável \"neutro_valores_nulos\"\n",
        "for i in range(0,len(neutro_valores_nulos)):\n",
        "\n",
        "  #Se a linha de df2 que estiver sendo analisada for nula\n",
        "  if neutro_valores_nulos[i] == True:\n",
        "    #Adiciona o valor zero a linha selecionada\n",
        "    neutro_valores_nulos[i] = \"0\"\n",
        "\n",
        "  # #Se a linha de df2 que estiver sendo analisada não for nula \n",
        "  if neutro_valores_nulos[i] == False: \n",
        "    #Permanece o valor que já estava na linha \n",
        "    neutro_valores_nulos[i] = (neutro_valores[i])"
      ],
      "metadata": {
        "id": "WEHduH27QznM"
      },
      "execution_count": null,
      "outputs": []
    },
    {
      "cell_type": "markdown",
      "source": [
        "O comando abaixo ilustra como a tabela \"Ambiente de trabalho\" ficou após a inclusão do número 0 (zero) nos espaços em branco."
      ],
      "metadata": {
        "id": "y5Kwr9bqjJMb"
      }
    },
    {
      "cell_type": "code",
      "source": [
        "neutro_valores_nulos"
      ],
      "metadata": {
        "id": "VkpbtjYfjJVL"
      },
      "execution_count": null,
      "outputs": []
    },
    {
      "cell_type": "markdown",
      "source": [
        "Os dados contemplados na coluna \"Satisfeito\" são responsáveis por exibir a quantidade de funcionarios que estavam satisfeitos com a questão levantada na pergunta feita à eles. Nos campos em branco, foi inserido o numero 0 (devido ao fato que a pergunta não foi respondida), assim deixando todos os dados do mesmo padrão."
      ],
      "metadata": {
        "id": "1qJdl7CFQ1YZ"
      }
    },
    {
      "cell_type": "code",
      "source": [
        "#Definindo uma variável que recebe todos os valores nulos da coluna \"Satisfeito\"\n",
        "satisfeito_valores_nulos = df2['Satisfeito'].isnull()\n",
        "\n",
        "#Definindo uma variável que recebe todos os valores presentes na coluna \"Satisfeito\"\n",
        "satisfeito_valores = df2['Satisfeito']\n",
        "\n",
        "#O for percorre as linhas de zero até a quantidade de linhas presente na variável \"neutro_valores_nulos\"\n",
        "for i in range(0,len(satisfeito_valores_nulos)):\n",
        "\n",
        "  #Se a linha de df2 que estiver sendo analisada for nula\n",
        "  if satisfeito_valores_nulos[i] == True:\n",
        "    #Adiciona o valor zero a linha selecionada\n",
        "    satisfeito_valores_nulos[i] = \"0\"\n",
        "\n",
        "  # #Se a linha de df2 que estiver sendo analisada não for nula \n",
        "  if satisfeito_valores_nulos[i] == False: \n",
        "    #Permanece o valor que já estava na linha \n",
        "    satisfeito_valores_nulos[i] = (satisfeito_valores[i])"
      ],
      "metadata": {
        "id": "tAVBKJAeQ1gG"
      },
      "execution_count": null,
      "outputs": []
    },
    {
      "cell_type": "markdown",
      "source": [
        "O comando abaixo ilustra como a tabela \"Ambiente de trabalho\" ficou após a inclusão do número 0 (zero) nos espaços em branco."
      ],
      "metadata": {
        "id": "M_7DuU-9jykx"
      }
    },
    {
      "cell_type": "code",
      "source": [
        "satisfeito_valores_nulos"
      ],
      "metadata": {
        "id": "JWANby8DjywF"
      },
      "execution_count": null,
      "outputs": []
    },
    {
      "cell_type": "markdown",
      "source": [
        "Os dados contemplados na coluna \"Muito Satisfeito\" são responsáveis por exibir a quantidade de funcionarios que estavam muito satisfeitos com a questão levantada na pergunta feita à eles. Nos campos em branco, foi inserido o numero 0 (devido ao fato que a pergunta não foi respondida), assim deixando todos os dados do mesmo padrão."
      ],
      "metadata": {
        "id": "QZ50zr0eQ3Ws"
      }
    },
    {
      "cell_type": "code",
      "source": [
        "#Definindo uma variável que recebe todos os valores nulos da coluna \"Muito Satisfeito\"\n",
        "Msatisfeito_valores_nulos = df2['Muito Satisfeito'].isnull()\n",
        "\n",
        "#Definindo uma variável que recebe todos os valores presentes na coluna \"Muito Satisfeito\"\n",
        "Msatisfeito_valores = df2['Muito Satisfeito']\n",
        "\n",
        "#O for percorre as linhas de zero até a quantidade de linhas presente na variável \"Mneutro_valores_nulos\"\n",
        "for i in range(0,len(Msatisfeito_valores_nulos)):\n",
        "\n",
        "  #Se a linha de df2 que estiver sendo analisada for nula\n",
        "  if Msatisfeito_valores_nulos[i] == True:\n",
        "    #Adiciona o valor zero a linha selecionada\n",
        "    Msatisfeito_valores_nulos[i] = \"0\"\n",
        "\n",
        "  # #Se a linha de df2 que estiver sendo analisada não for nula \n",
        "  if Msatisfeito_valores_nulos[i] == False: \n",
        "    #Permanece o valor que já estava na linha \n",
        "    Msatisfeito_valores_nulos[i] = (Msatisfeito_valores[i])"
      ],
      "metadata": {
        "id": "s58vpq6CQ3dx"
      },
      "execution_count": null,
      "outputs": []
    },
    {
      "cell_type": "markdown",
      "source": [
        "O comando abaixo ilustra como a tabela \"Ambiente de trabalho\" ficou após a inclusão do número 0 (zero) nos espaços em branco."
      ],
      "metadata": {
        "id": "1LlD-Hu7kX5G"
      }
    },
    {
      "cell_type": "code",
      "source": [
        "Msatisfeito_valores_nulos"
      ],
      "metadata": {
        "id": "Qyhu3_IokYD6"
      },
      "execution_count": null,
      "outputs": []
    },
    {
      "cell_type": "markdown",
      "source": [
        "## Formatação de datas"
      ],
      "metadata": {
        "id": "Qq7lDaYZQezn"
      }
    },
    {
      "cell_type": "markdown",
      "source": [
        "Para a manipulação correta das datas e horários na base de dados, todas precisam estar no mesmo formato. Para isso, realisou-se uma padronização através da utilização do comando replace, já explicado anteriormente."
      ],
      "metadata": {
        "id": "KdV1i6bEQipa"
      }
    },
    {
      "cell_type": "code",
      "source": [
        "#O for percorre as linhas de 0 até a quantidade de linhas presente na coluna \"Dt Admissao\"\n",
        "for i in range(0, len(df['Dt Admissao'])):\n",
        "  #Passa por cada linha das colunas selecionadas e troca a formatação do conteúdo que está lá pelo formato indicado\n",
        "  #remoção das horas das datas\n",
        "  df['Dt Admissao'][i] = str(df['Dt Admissao'][i]).replace('00:00:00', '')\n",
        "  df['Dt Saida'][i] = str(df['Dt Saida'][i]).replace('00:00:00', '')\n",
        "  #troca de todas as '/' por '-'\n",
        "  df['Dt Admissao'][i] = str(df['Dt Admissao'][i]).replace('/', '-')\n",
        "  df['Dt Saida'][i] = str(df['Dt Saida'][i]).replace('/', '-')\n",
        "  #Padronização de todos os dados para o formato (ano, mês, dia)\n",
        "  df['Dt Admissao'][i] = moment.date(df['Dt Admissao'][i]).format(\"YYYY-MM-DD\")\n",
        "  df['Dt Saida'][i] = moment.date(df['Dt Saida'][i]).format(\"YYYY-MM-DD\")\n",
        "df['Dt Admissao'] = pd.to_datetime(df['Dt Admissao'], format=\"%Y/%m/%d\")\n",
        "df['Dt Saida'] = pd.to_datetime(df['Dt Saida'], format=\"%Y/%m/%d\")"
      ],
      "metadata": {
        "id": "2bURjpC3Qiwk"
      },
      "execution_count": null,
      "outputs": []
    },
    {
      "cell_type": "markdown",
      "source": [
        "O código abaixo mostra como a tabela ficou construída após as padronizações. Para visualizar o resultado, altere o nome da coluna, sendo possível os seguintes nomes:\n",
        "\n",
        "\n",
        "*   Dt Admissao\n",
        "*   Dt Saida\n",
        "\n"
      ],
      "metadata": {
        "id": "DMSyuVjfnf9I"
      }
    },
    {
      "cell_type": "code",
      "source": [
        "display(df['Dt Admissao'])"
      ],
      "metadata": {
        "id": "MOugrlfl0H6B"
      },
      "execution_count": null,
      "outputs": []
    },
    {
      "cell_type": "markdown",
      "source": [
        "## Manipulação das idades"
      ],
      "metadata": {
        "id": "r9huhm5thfi_"
      }
    },
    {
      "cell_type": "markdown",
      "source": [
        "Para manipular as idades, foi necessário criar um novo atributo chamado \"Idade\", pois na base de dados original foi entregue somente a data de nascimento do colaborador. Abaixo é exibido como foi construído a nova coluna."
      ],
      "metadata": {
        "id": "hojFJhXFhibf"
      }
    },
    {
      "cell_type": "code",
      "source": [
        "#Criação de um novo atributo chamado \"Idade\"\n",
        "df['Idade'] = 0 "
      ],
      "metadata": {
        "id": "h29tyWEzhiHm"
      },
      "execution_count": null,
      "outputs": []
    },
    {
      "cell_type": "markdown",
      "source": [
        "Para atribuir o valor da idade à nova coluna criada acima, foi feito um cálculo com base na diferença entre a coluna 'Dt Nascimento' e a data de hoje, fornecida pelo metodo date.today(), para os funcionarios ativos, e na diferença entre a coluna 'Dt Nascimento' e a 'Dt Saida' para os inativos.\n",
        "\n",
        "\n",
        "\n",
        "> O metodo date.today() fornece o valor da data no momento atual, contida no sistema do computador.\n",
        "\n"
      ],
      "metadata": {
        "id": "H9HnPp1yhlwB"
      }
    },
    {
      "cell_type": "code",
      "source": [
        "#o comando for passa por todas as linhas da tabela\n",
        "for i in range(0, len(df['Dt Nascimento'])):\n",
        "  #se na coluna Tipo saída o colaborador está ativo o comando continua\n",
        "  if df['Tipo Saida'][i] == str('Ativo'):\n",
        "    #se o colaborador ja fez aniverario durante o ano\n",
        "    if date.today().month>(df['Dt Nascimento'][i]).month or date.today().month==(df['Dt Nascimento'][i]).month and date.today().day>=(df['Dt Nascimento'][i]).day:\n",
        "      # A idade é igual a data de agora - data de nascimento do colaborador\n",
        "      df['Idade'][i] = date.today().year - (df['Dt Nascimento'][i]).year\n",
        "    #se o colaborador não fez aniverario no ano\n",
        "    else:\n",
        "      # A idade é a (data de agora - data de nascimento do colaborador) -1 ano\n",
        "      df['Idade'][i] = (date.today().year - (df['Dt Nascimento'][i]).year)-1\n",
        "  #se o colaborador não está mais ativo na empresa\n",
        "  else:\n",
        "    #se o colaborador ja fez aniverario no ano\n",
        "    if df['Dt Saida'][i].month>=(df['Dt Nascimento'][i]).month:\n",
        "      # A idade é a data de saída  - data de nascimento do colaborador\n",
        "      df['Idade'][i] = df['Dt Saida'][i].year - (df['Dt Nascimento'][i]).year\n",
        "    #se o colaborador não fez aniverario no ano\n",
        "    else:\n",
        "      # A idade é  a (data de saída  - data de nascimento do colaborador) - 1 ano\n",
        "      df['Idade'][i] = (df['Dt Saida'][i].year - df['Dt Nascimento'][i].year)-1"
      ],
      "metadata": {
        "id": "cvgFPtj5hl50"
      },
      "execution_count": null,
      "outputs": []
    },
    {
      "cell_type": "markdown",
      "source": [
        "O comando abaixo exibe a stituação da tabela, após as modificações feitas acima."
      ],
      "metadata": {
        "id": "Rq5Hu-slhsRM"
      }
    },
    {
      "cell_type": "code",
      "source": [
        "df"
      ],
      "metadata": {
        "id": "da8YMgFKhseR"
      },
      "execution_count": null,
      "outputs": []
    },
    {
      "cell_type": "markdown",
      "source": [
        "## Cálculo do Tempo de Empresa"
      ],
      "metadata": {
        "id": "eancaU3XhxX6"
      }
    },
    {
      "cell_type": "markdown",
      "source": [
        "Para manipular o tempo de empresa, foi necessário criar um novo atributo chamado 'Tempo Empresa Meses', pois na base de dados original foi entregue somente a data de adimissão e a data de saída. Abaixo é exibido como foi construído a nova coluna:"
      ],
      "metadata": {
        "id": "nt1purVMh0EV"
      }
    },
    {
      "cell_type": "code",
      "source": [
        "#Criação de um novo atributo chamado \"Tempo Empresa Meses\"\n",
        "df['Tempo Empresa Meses'] = 0 "
      ],
      "metadata": {
        "id": "Nm9ieNZTh0Mh"
      },
      "execution_count": null,
      "outputs": []
    },
    {
      "cell_type": "markdown",
      "source": [
        "Para atribuir o valor do tempo de empresa(em meses) à nova coluna criada acima, foi feito um cálculo com base na data de hoje, fornecida pelo metodo date.today(), inserido na coluna 'Dt Adimissao' para os funcionarios ativos, sendo necessário esse atributo para realçar a diferença entre a coluna 'Dt Saida' e a 'Dt Adimissao' para os colaboradores inativos."
      ],
      "metadata": {
        "id": "o79UJcPEh2W4"
      }
    },
    {
      "cell_type": "code",
      "source": [
        "#o comando for passa por todas as linhas da tabela\n",
        "for i in range(0, len(df['Dt Admissao'])):\n",
        "  #se na coluna Tipo saída o colaborador está ativo o comando continua\n",
        "  if df['Tipo Saida'][i] == str('Ativo'):\n",
        "    # O tempo de empresa em meses é igual a data de agora - data de admissão do colaborador\n",
        "    df['Tempo Empresa Meses'][i] = (((date.today().year - df['Dt Admissao'][i].year)*12)+date.today().month - df['Dt Admissao'][i].month) \n",
        "  #se o colaborador não está mais ativo na empresa\n",
        "  else:\n",
        "    # O tempo de empresa em meses é igual a data de agora - data de saida do colaborador\n",
        "    df['Tempo Empresa Meses'][i] = (df['Dt Saida'][i].year - df['Dt Admissao'][i].year)*12+df['Dt Saida'][i].month - df['Dt Admissao'][i].month "
      ],
      "metadata": {
        "id": "X7Gp2ztth2e8"
      },
      "execution_count": null,
      "outputs": []
    },
    {
      "cell_type": "markdown",
      "source": [
        "O comando abaixo exibe a stituação da tabela, após as modificações feitas acima."
      ],
      "metadata": {
        "id": "e-BxmB2zh5Y4"
      }
    },
    {
      "cell_type": "code",
      "source": [
        "df"
      ],
      "metadata": {
        "id": "VEWLX-eyh5m-"
      },
      "execution_count": null,
      "outputs": []
    },
    {
      "cell_type": "markdown",
      "source": [
        "## Tempo Reconhecimento"
      ],
      "metadata": {
        "id": "ABSwlmYVl0hn"
      }
    },
    {
      "cell_type": "markdown",
      "source": [
        "Para manipular o tempo até o reconhecimento, foi necessário criar um novo atributo chamado 'Tempo Ate Promocao Meses', pois na base de dados original foi entregue somente a data de Vigência e a data de Adimissão. Abaixo é exibido como foi construído a nova coluna:"
      ],
      "metadata": {
        "id": "VPBvCuppl4Nb"
      }
    },
    {
      "cell_type": "code",
      "source": [
        "#Criação de um novo atributo chamado \"Tempo Ate Promocao Meses\"\n",
        "df1['Tempo Ate Promocao Meses'] = 0"
      ],
      "metadata": {
        "id": "XkNOVXC2l4Yp"
      },
      "execution_count": null,
      "outputs": []
    },
    {
      "cell_type": "markdown",
      "source": [
        "Para atribuir o valor do tempo ate a promoção (em meses) à nova coluna criada acima, foi feito um cálculo com base na diferença entre a coluna 'Data Vigência' e a coluna 'Dt Adimissao'."
      ],
      "metadata": {
        "id": "EQOyDtvvl6Y0"
      }
    },
    {
      "cell_type": "code",
      "source": [
        "#o comando for passa por todas as linhas da tabela\n",
        "for i in range(0, len(df1['Data de Admissão'])):\n",
        "    # O tempo ate a promoção em meses é igual a data de vigência - data de admissão do colaborador\n",
        "    df1['Tempo Ate Promocao Meses'][i] = (df1['Data Vigência'][i].year - df1['Data de Admissão'][i].year)*12+df1['Data Vigência'][i].month - df1['Data de Admissão'][i].month "
      ],
      "metadata": {
        "id": "cnqELsf0l6jQ"
      },
      "execution_count": null,
      "outputs": []
    },
    {
      "cell_type": "markdown",
      "source": [
        "O comando abaixo exibe a stituação da tabela, após as modificações feitas acima."
      ],
      "metadata": {
        "id": "RxHxDhwhl8am"
      }
    },
    {
      "cell_type": "code",
      "source": [
        "df1"
      ],
      "metadata": {
        "id": "CXAdq_Y8l8ib"
      },
      "execution_count": null,
      "outputs": []
    },
    {
      "cell_type": "markdown",
      "source": [
        "## Separação do número com o nome do colaborador"
      ],
      "metadata": {
        "id": "qgVhrVLhjYZY"
      }
    },
    {
      "cell_type": "markdown",
      "source": [
        "Para verificar e manipular a quantidade de pessoas dentro das tabelas, existem duas colunas que englobam \"Pessoa\" + \"Número do colaborador\", sendo elas:\n",
        "\n",
        "1.   Nome Completo (Planilha Everymind)\n",
        "2.   Codinome (Planilha Reconhecimento)\n",
        "\n",
        "Como o nome do colaborador não é algo relevante para a análise de rotatividade, usaremos somente o número atribuído a cada funcionário.\n",
        "\n"
      ],
      "metadata": {
        "id": "lrwaYsC0z9U3"
      }
    },
    {
      "cell_type": "markdown",
      "source": [
        "Na planilha \"Everymind\", criaremos uma nova coluna chamada \"Colaborador\". "
      ],
      "metadata": {
        "id": "dyWJU9l_jz7G"
      }
    },
    {
      "cell_type": "code",
      "source": [
        "#Criação de uma nova coluna na base de dados\n",
        "df['Colaborador'] = \"\""
      ],
      "metadata": {
        "id": "UgAbPp8njdR6"
      },
      "execution_count": null,
      "outputs": []
    },
    {
      "cell_type": "markdown",
      "source": [
        "O comando abaixo executa a tabela, já com a coluna \"Colaborador\" acrescentada"
      ],
      "metadata": {
        "id": "QW2p3oQ6F49U"
      }
    },
    {
      "cell_type": "code",
      "source": [
        "df"
      ],
      "metadata": {
        "id": "cybxvj4LF2qb"
      },
      "execution_count": null,
      "outputs": []
    },
    {
      "cell_type": "markdown",
      "source": [
        "Após a atualização da tabela, a coluna \"Nome Completo\" é dividida entre a palavra \"Pessoa colaboradora\" e o número que a acompanha. O programa abaixo, mostra como essa divisão foi realizada e como ocorreu a transferência dos números da coluna \"Nome Completo\" para  a coluna \"Colaborador\". "
      ],
      "metadata": {
        "id": "5J2yPtnE1xlD"
      }
    },
    {
      "cell_type": "code",
      "source": [
        "# Retira a string \"PessoaColaboradora\" de todas as linhas da coluna \"Nome Completo\" deixando apenas o número do funcionário, o qual será transferido para a coluna \"Colaborador\"\n",
        "for i in range(0, len(df['Nome Completo'])):\n",
        "  df['Colaborador'][i] = str(df['Nome Completo'][i]).replace('PessoaColaboradora', '')"
      ],
      "metadata": {
        "id": "J8HbIivCjkld"
      },
      "execution_count": null,
      "outputs": []
    },
    {
      "cell_type": "code",
      "source": [
        "df"
      ],
      "metadata": {
        "id": "iLSiifEVM_ni"
      },
      "execution_count": null,
      "outputs": []
    },
    {
      "cell_type": "markdown",
      "source": [
        "Na planilha \"Reconhecimento\", criaremos uma nova coluna chamada \"Colaborador\". "
      ],
      "metadata": {
        "id": "axkqygaPjx9W"
      }
    },
    {
      "cell_type": "code",
      "source": [
        "df1['Colaborador'] = \"\""
      ],
      "metadata": {
        "id": "wTKYZYpVj2JJ"
      },
      "execution_count": null,
      "outputs": []
    },
    {
      "cell_type": "markdown",
      "source": [
        "O comando abaixo executa a tabela, já com a coluna \"Colaborador\" acrescentada"
      ],
      "metadata": {
        "id": "i0_EgqMmMUIe"
      }
    },
    {
      "cell_type": "code",
      "source": [
        "df1"
      ],
      "metadata": {
        "id": "pzHkva4_MWHs"
      },
      "execution_count": null,
      "outputs": []
    },
    {
      "cell_type": "markdown",
      "source": [
        "Após a atualização da tabela, a coluna \"Codinome\" é dividida entre a palavra \"Pessoa colaboradora\" e o número que a acompanha. O programa abaixo, mostra como essa divisão foi realizada e como ocorreu a transferência dos números da coluna \"Codinome\" para a coluna \"Colaborador\"."
      ],
      "metadata": {
        "id": "8uC-xsWFMYOf"
      }
    },
    {
      "cell_type": "code",
      "source": [
        "# Retira a string \"PessoaColaboradora\" de todas as linhas da coluna \"Nome Completo\" deixando apenas o número do funcionário, o qual será transferido para a coluna \"Colaborador\"\n",
        "for i in range(0, len(df1['Codinome'])):\n",
        "  df1['Colaborador'][i] = str(df1['Codinome'][i]).replace('PessoaColaboradora', '')"
      ],
      "metadata": {
        "id": "PWy63ynSj4P-"
      },
      "execution_count": null,
      "outputs": []
    },
    {
      "cell_type": "code",
      "source": [
        "df1"
      ],
      "metadata": {
        "id": "0AJwiOx5M4Om"
      },
      "execution_count": null,
      "outputs": []
    },
    {
      "cell_type": "markdown",
      "source": [
        "## Exclusão de Colunas não utilizadas"
      ],
      "metadata": {
        "id": "3c_soQKsNXDi"
      }
    },
    {
      "cell_type": "markdown",
      "source": [
        "A partir da análise dos dados foi decidido pela retirada de algumas colunas da \"Base Colaboradores Everymind\", sendo elas as colunas \"Etnia\", \"Nome Completo\" e \"Codinome\". Abaixo é apresentado as colunas que foram excluídas e os motivos pelos quais elas não seram comtempladas no modelo."
      ],
      "metadata": {
        "id": "Y4IDX1B4NcnL"
      }
    },
    {
      "cell_type": "markdown",
      "source": [
        "Em primeiro lugar a exclusão da coluna \"Etnia\" foi motivada pela sensibilidade dos dados e ser antiético a análise da permanência de colaboradores a partir da etnia destes. Nesse prisma, a continuidade dessa coluna criará um modelo com resultados enviesados. "
      ],
      "metadata": {
        "id": "1lsKsAoCSqnt"
      }
    },
    {
      "cell_type": "code",
      "source": [
        "#O comando abaixo é responsável por excluir a coluna \"Etnia\" na base de dados \n",
        "df = df.drop(columns=['Etnia']) "
      ],
      "metadata": {
        "id": "HYeFHnliOEd8"
      },
      "execution_count": null,
      "outputs": []
    },
    {
      "cell_type": "markdown",
      "source": [
        "Já a retirada da coluna \"Nome Completo\" e \"Codinome\" ocorreu por esta não contribuir de forma alguma com a construção do modelo, uma vez que, um nome não pode ser um fator de decisão."
      ],
      "metadata": {
        "id": "zsWhmrM8Sy4e"
      }
    },
    {
      "cell_type": "code",
      "source": [
        "#O comando abaixo é responsável por excluir a coluna \"Nome Completo\" na base de dados \n",
        "df = df.drop(columns=['Nome Completo'])"
      ],
      "metadata": {
        "id": "pmUQnWWyODtX"
      },
      "execution_count": null,
      "outputs": []
    },
    {
      "cell_type": "code",
      "source": [
        "#O comando abaixo é responsável por excluir a coluna \"Codinome\" na base de dados \n",
        "df1 = df1.drop(columns=['Codinome'])"
      ],
      "metadata": {
        "id": "r4Ou1TlNS-o7"
      },
      "execution_count": null,
      "outputs": []
    },
    {
      "cell_type": "markdown",
      "source": [
        "Abaixo apresenta-se a exibição das tabelas, já com a exclusão das colunas."
      ],
      "metadata": {
        "id": "54pbx8ZbTTfE"
      }
    },
    {
      "cell_type": "code",
      "source": [
        "#Leitura da Planilha Everymind sem a coluna \"Etnia\" e \"Nome Completo\"\n",
        "df.head()"
      ],
      "metadata": {
        "id": "dCnghRAjO5rh"
      },
      "execution_count": null,
      "outputs": []
    },
    {
      "cell_type": "code",
      "source": [
        "#Leitura da Planilha Reconhecimento sem a coluna \"Codinome\"\n",
        "df1.head()"
      ],
      "metadata": {
        "id": "0EFLyb6-TPRn"
      },
      "execution_count": null,
      "outputs": []
    },
    {
      "cell_type": "markdown",
      "source": [
        "## One Hot encoding"
      ],
      "metadata": {
        "id": "vvBjmo6bzs7W"
      }
    },
    {
      "cell_type": "markdown",
      "source": [
        "  Para utilizarmos as variáveis categóricas é necessário realizar uma transformação nos dados, que resultam em formas binárias (não ordenada), as quais serão aplicadas em futuras equações matemáticas no modelo de aprendizado de máquina.\n",
        "\n",
        "  Nesse aspecto, o código abaixo utiliza um data frame, que seleciona a coluna específicada corresponde às propriedades (campos) da base de dados e suas linhas são identificadas como um registro. "
      ],
      "metadata": {
        "id": "iL048Nkyz2Nw"
      }
    },
    {
      "cell_type": "markdown",
      "source": [
        "\n",
        "\n",
        "1.   Planilha - Everymind\n",
        "\n"
      ],
      "metadata": {
        "id": "GmbHJkt4mgHH"
      }
    },
    {
      "cell_type": "code",
      "source": [
        "#As variáveis criadas são utilizadas para receber os valores da coluna do Data Frame selecionado\n",
        "\n",
        "data_saidas = pd.DataFrame(df, columns=[\"Tipo Saida\"])\n",
        "data_cargos = pd.DataFrame(df, columns=[\"Cargo\"])\n",
        "data_genero = pd.DataFrame(df, columns=[\"Genero\"])\n",
        "data_civil = pd.DataFrame(df, columns=[\"Estado Civil\"])\n",
        "data_estado = pd.DataFrame(df, columns=[\"Estado\"])\n",
        "data_cidade = pd.DataFrame(df, columns=[\"Cidade\"])\n",
        "data_area = pd.DataFrame(df, columns=[\"Area\"])"
      ],
      "metadata": {
        "id": "hFggi4oUz8Us"
      },
      "execution_count": null,
      "outputs": []
    },
    {
      "cell_type": "code",
      "source": [
        "#As variáveis criadas são utilizadas para receber a aplicação do One Hot encoding pelo pandas\n",
        "#Para isso, utilizam-se das variáveis com os data frames criados acima \n",
        "\n",
        "dummie_saidas = pd.get_dummies(data_saidas[\"Tipo Saida\"])\n",
        "dummie_cargos = pd.get_dummies(data_cargos[\"Cargo\"]) \n",
        "dummie_genero = pd.get_dummies(data_genero[\"Genero\"])\n",
        "dummie_civil = pd.get_dummies(data_civil[\"Estado Civil\"]) \n",
        "dummie_estado = pd.get_dummies(data_estado[\"Estado\"]) \n",
        "dummie_cidade = pd.get_dummies(data_cidade[\"Cidade\"]) \n",
        "dummie_area = pd.get_dummies(data_area[\"Area\"]) "
      ],
      "metadata": {
        "id": "N-0ESrAK6K29"
      },
      "execution_count": null,
      "outputs": []
    },
    {
      "cell_type": "markdown",
      "source": [
        "O comando abaixo é responsável por realizar a leitura e apresentação dos dados carregados gerando as matrizes do One Hot Encoding. Para alterar a visualização das matrizes mude o parâmetro do display com as variáveis a seguir: \n",
        "\n",
        "\n",
        "1. dummie_saidas\n",
        "2. dummie_cargos\n",
        "3. dummie_genero\n",
        "4. dummie_civil\n",
        "5. dummie_estado\n",
        "6. dummie_cidade\n",
        "7. dummie_area\n",
        "\n"
      ],
      "metadata": {
        "id": "XceQ0xnz8Ebc"
      }
    },
    {
      "cell_type": "code",
      "source": [
        "display(dummie_civil) #Exemplo de visualização de matriz"
      ],
      "metadata": {
        "id": "rfD5W4Xq6_aA"
      },
      "execution_count": null,
      "outputs": []
    },
    {
      "cell_type": "markdown",
      "source": [
        "2. Planilha - Reconhecimento"
      ],
      "metadata": {
        "id": "hquB1QqWmlyR"
      }
    },
    {
      "cell_type": "code",
      "source": [
        "#As variáveis criadas são utilizadas para receber os valores da coluna do Data Frame selecionado\n",
        "\n",
        "data_situacao = pd.DataFrame(df1, columns=[\"Situação\"])\n",
        "data_motivo = pd.DataFrame(df1, columns=[\"Motivo\"])\n",
        "data_novo_cargo = pd.DataFrame(df1, columns=[\"Novo Cargo\"])\n",
        "data_alterou_funcao = pd.DataFrame(df1, columns=[\"Alterou Função\"])"
      ],
      "metadata": {
        "id": "MsJIlsRYmpxK"
      },
      "execution_count": null,
      "outputs": []
    },
    {
      "cell_type": "code",
      "source": [
        "#As variáveis criadas são utilizadas para receber a aplicação do One Hot encoding pelo pandas\n",
        "#Para isso, utilizam-se das variáveis com os data frames criados acima \n",
        "\n",
        "dummie_situacao = pd.get_dummies(data_situacao[\"Situação\"])\n",
        "dummie_motivo = pd.get_dummies(data_motivo[\"Motivo\"]) \n",
        "dummie_novo_cargo = pd.get_dummies(data_novo_cargo[\"Novo Cargo\"]) \n",
        "dummie_alterou_funcao = pd.get_dummies(data_alterou_funcao[\"Alterou Função\"])"
      ],
      "metadata": {
        "id": "nsg-EvCcmte9"
      },
      "execution_count": null,
      "outputs": []
    },
    {
      "cell_type": "markdown",
      "source": [
        "O comando abaixo é responsável por realizar a leitura e apresentação dos dados carregados gerando as matrizes do One Hot Encoding. Para alterar a visualização das matrizes mude o parâmetro do display com as variáveis a seguir:\n",
        "\n",
        "*   dummie_situacao\n",
        "*   dummie_motivo\n",
        "*   dummie_novo_cargo\n",
        "*   dummie_alterou_funcao\n",
        "\n",
        "\n",
        "\n",
        "\n",
        "\n"
      ],
      "metadata": {
        "id": "fe9TEeWLm7s7"
      }
    },
    {
      "cell_type": "code",
      "source": [
        "display(dummie_motivo) #Exemplo de visualização de matriz"
      ],
      "metadata": {
        "id": "0QED2ngbnNX_"
      },
      "execution_count": null,
      "outputs": []
    },
    {
      "cell_type": "markdown",
      "source": [
        "## Label Encoder"
      ],
      "metadata": {
        "id": "gsTr-dKh9U4T"
      }
    },
    {
      "cell_type": "markdown",
      "source": [
        "  Algumas colunas apresentam a necessidade de seus dados serem apresentados com relação de ordem. A conversão de variáveis categóricas para variáveis ordinárias é realizado através do Label Encoder. No modelo preditivo construído, a única variável que foi modificada utilizando esse método, foi a coluna de escolaridade. No código abaixo é representado a forma como ocorreu tal processo."
      ],
      "metadata": {
        "id": "t-9vgSvn9WlN"
      }
    },
    {
      "cell_type": "code",
      "source": [
        "#A variável criada é utilizada para receber o valore da coluna do Data Frame selecionado\n",
        "data_escolaridade = pd.DataFrame(df, columns=[\"Escolaridade \"])"
      ],
      "metadata": {
        "id": "3n43LF6JA8ps"
      },
      "execution_count": null,
      "outputs": []
    },
    {
      "cell_type": "code",
      "source": [
        "#A variável criada é utilizada para receber os dados pertencentes à coluna \"Escolaridade\" e ordená-los, respectivamente.\n",
        "dummie_escolaridade_atual = data_escolaridade.replace(['Ensino Médio Incompleto', 'Ensino Médio', 'Técnico', 'Graduação', 'Superior incompleto', 'Pós Graduação', 'Mestrado'], [0,1,2,3,4,5,6])"
      ],
      "metadata": {
        "id": "SqTGaE9r__78"
      },
      "execution_count": null,
      "outputs": []
    },
    {
      "cell_type": "markdown",
      "source": [
        "O comando abaixo é responsável por realizar a leitura e apresentação dos dados carregados gerando a matriz com o método label encoder."
      ],
      "metadata": {
        "id": "nq2Ybh1fAG14"
      }
    },
    {
      "cell_type": "code",
      "source": [
        "display(dummie_escolaridade_atual)"
      ],
      "metadata": {
        "id": "eHYLFvqUAHEt"
      },
      "execution_count": null,
      "outputs": []
    },
    {
      "cell_type": "markdown",
      "source": [
        "## Criação novo Database\n",
        "\n",
        ">Divisão de Funcionários Ativos e Desligados\n",
        "\n"
      ],
      "metadata": {
        "id": "5JSsSDH2Jwrj"
      }
    },
    {
      "cell_type": "markdown",
      "source": [
        "Na tarefa de seleção de dados é onde é definida a relevância do atributo. Para atingir esse objetivo, foi necessário criar duas bases de dados com a divisão entre atributos focados nos funcionários ativos e desligados. De modo que fosse possível compreender como a relação de determinados atributos se comportam em cada um dos casos.\n"
      ],
      "metadata": {
        "id": "Bhd0Cw15J0IR"
      }
    },
    {
      "cell_type": "markdown",
      "source": [
        "### Criação Database (Colaboradores Ativos)"
      ],
      "metadata": {
        "id": "_dgAkQEAJIns"
      }
    },
    {
      "cell_type": "markdown",
      "source": [
        "Abaixo apresenta-se a criação da base de funcionários “Ativos”, através da seleção dos dados da planilha “Everymind\"."
      ],
      "metadata": {
        "id": "S25JvGrvJU32"
      }
    },
    {
      "cell_type": "code",
      "source": [
        "#O comando é responsável por atribuir a base de dados “Df” a variável “df_Ativo\"\n",
        "df_Ativo = df.copy()\n",
        "\n",
        "#O comando é responsável por excluir a linha de dados que possui o “Tipo Saida” igual a um determinado valor\n",
        "df_Ativo.drop(df_Ativo.loc[df_Ativo['Tipo Saida']=='Dispensa sem Justa Causa'].index, inplace=True)\n",
        "df_Ativo.drop(df_Ativo.loc[df_Ativo['Tipo Saida']=='Pedido de Demissão'].index, inplace=True)\n",
        "df_Ativo.drop(df_Ativo.loc[df_Ativo['Tipo Saida']=='Rescisao Contrato Exp - Pedido'].index, inplace=True)\n",
        "df_Ativo.drop(df_Ativo.loc[df_Ativo['Tipo Saida']=='Rescisao Contrato Exp - Dispensa'].index, inplace=True)"
      ],
      "metadata": {
        "id": "Mv6WUqShJUSX"
      },
      "execution_count": null,
      "outputs": []
    },
    {
      "cell_type": "markdown",
      "source": [
        "O código abaixo serve para visualizar a nova base de dados de funcionários ativos"
      ],
      "metadata": {
        "id": "kVQ9Y8ycJW6E"
      }
    },
    {
      "cell_type": "code",
      "source": [
        "#O código abaixo é utilizado para visualizar a base de dados “df_Ativo”\n",
        "df_Ativo"
      ],
      "metadata": {
        "id": "zdGM-Xd3JXR2"
      },
      "execution_count": null,
      "outputs": []
    },
    {
      "cell_type": "markdown",
      "source": [
        "### Criação Database (Colaboradores Desligados)"
      ],
      "metadata": {
        "id": "_GIRCab3Jlro"
      }
    },
    {
      "cell_type": "markdown",
      "source": [
        "Abaixo apresenta-se a criação da base de funcionários “Desligado”, através da seleção dos dados da planilha “Everymind”, abrangendo as seguintes categorias: Dispensa sem Justa Causa, Pedido de Demissão, Rescisao Contrato Exp - Pedido e Rescisao Contrato Exp - Dispensa."
      ],
      "metadata": {
        "id": "Bqnko1X2JrWC"
      }
    },
    {
      "cell_type": "code",
      "source": [
        "#O comando é responsável por atribuir a base de dados “Df” a variável “df_Desligado\"\n",
        "df_Desligado = df.copy()\n",
        "#O comando é responsável por excluir a linha de dados que possui o “Tipo Saida” igual a um determinado valor\n",
        "df_Desligado.drop(df_Desligado.loc[df_Desligado['Tipo Saida']=='Ativo'].index, inplace=True)"
      ],
      "metadata": {
        "id": "vROKeooKJrfn"
      },
      "execution_count": null,
      "outputs": []
    },
    {
      "cell_type": "markdown",
      "source": [
        "O código abaixo serve para visualizar a nova base de dados de funcionários desligador"
      ],
      "metadata": {
        "id": "QsUUFEygJt5i"
      }
    },
    {
      "cell_type": "code",
      "source": [
        "#O código abaixo é utilizado para visualizar a base de dados “df_Desligado”\n",
        "df_Desligado"
      ],
      "metadata": {
        "id": "kUkrW1T5JuDN"
      },
      "execution_count": null,
      "outputs": []
    },
    {
      "cell_type": "markdown",
      "source": [
        "## Análise de colunas\n",
        "\n",
        "\n",
        "\n",
        "> Relação de funcionarios ativos e desligados com cargo\n",
        "\n"
      ],
      "metadata": {
        "id": "FzZUYBGLivLN"
      }
    },
    {
      "cell_type": "markdown",
      "source": [
        "Essa análise serve para identificar possíveis dados enviesados, de modo que seja possível entender o real impacto de uma variável, levando em consideração a quantidade total de funcionários por cargo.\n",
        "\n"
      ],
      "metadata": {
        "id": "Qw3j4pu3LUPE"
      }
    },
    {
      "cell_type": "markdown",
      "source": [
        "O comando abaixo é responsável por realizar a contagem total de funcionários por cargo da base de dados “df_Desligados\""
      ],
      "metadata": {
        "id": "H7b6oYRQLkBb"
      }
    },
    {
      "cell_type": "code",
      "source": [
        "df_Desligado['Cargo'].value_counts()"
      ],
      "metadata": {
        "id": "5UzRDQrzLk8p"
      },
      "execution_count": null,
      "outputs": []
    },
    {
      "cell_type": "markdown",
      "source": [
        "O comando abaixo é responsável por realizar a contagem total de funcionários por cargo da base de dados “df_Ativos"
      ],
      "metadata": {
        "id": "_A34Gbo7LlIC"
      }
    },
    {
      "cell_type": "code",
      "source": [
        "df_Ativo['Cargo'].value_counts()"
      ],
      "metadata": {
        "id": "IgwcamVDLlSD"
      },
      "execution_count": null,
      "outputs": []
    },
    {
      "cell_type": "markdown",
      "source": [
        "## Gráficos Gerados"
      ],
      "metadata": {
        "id": "bKXr1S6x9tzg"
      }
    },
    {
      "cell_type": "markdown",
      "source": [],
      "metadata": {
        "id": "BbaiAbUjKAJK"
      }
    },
    {
      "cell_type": "markdown",
      "source": [
        "### Relação entre “Idade\" e “Cargo”\n",
        "\n",
        "> Funcionários ativos e desligados\n",
        "\n"
      ],
      "metadata": {
        "id": "-ypzqdiI4cuF"
      }
    },
    {
      "cell_type": "markdown",
      "source": [
        "O comando abaixo é responsável por gerar um gráfico de dispersão, levando em consideração os funcionários ativos, fazendo a relação dos dados idade (eixo x) e cargo (eixo y)"
      ],
      "metadata": {
        "id": "W1MyR8ED6hB_"
      }
    },
    {
      "cell_type": "code",
      "source": [
        "sns.scatterplot(data = df_Desligado, x = 'Idade', y = 'Cargo', color='Red')"
      ],
      "metadata": {
        "id": "iv6OMv1AKyxh"
      },
      "execution_count": null,
      "outputs": []
    },
    {
      "cell_type": "markdown",
      "source": [
        "O comando abaixo é responsável por gerar um gráfico de dispersão, levando em consideração os funcionários desligados, fazendo a relação dos dados idade (eixo x) e cargo (eixo y)"
      ],
      "metadata": {
        "id": "D23Ul8CZLCCg"
      }
    },
    {
      "cell_type": "code",
      "source": [
        "sns.scatterplot(data = df_Ativo, x = 'Idade', y = 'Cargo')"
      ],
      "metadata": {
        "id": "CNhCJIecLCPq"
      },
      "execution_count": null,
      "outputs": []
    },
    {
      "cell_type": "markdown",
      "source": [
        "### Relação entre “Salario Mês\" e “Cargo”\n",
        "\n",
        "\n",
        ">  Funcionários ativos e desligados\n",
        "\n"
      ],
      "metadata": {
        "id": "xY2Av9pWLHsm"
      }
    },
    {
      "cell_type": "markdown",
      "source": [
        "O comando abaixo é responsável por gerar um gráfico de dispersão, levando em consideração os funcionários ativos, fazendo a relação dos dados salário mês (eixo x) e cargo (eixo y)"
      ],
      "metadata": {
        "id": "uPXK67Ac6SKQ"
      }
    },
    {
      "cell_type": "code",
      "source": [
        "sns.scatterplot(data = df_Desligado, x = 'Salario Mês', y = 'Cargo', color='Red')"
      ],
      "metadata": {
        "id": "goUAOO7BLH1p"
      },
      "execution_count": null,
      "outputs": []
    },
    {
      "cell_type": "markdown",
      "source": [
        "O comando abaixo é responsável por gerar um gráfico de dispersão, levando em consideração os funcionários desligados, fazendo a relação dos dados salário mês (eixo x) e cargo (eixo y)"
      ],
      "metadata": {
        "id": "G4LGkHe6LJOS"
      }
    },
    {
      "cell_type": "code",
      "source": [
        "sns.scatterplot(data = df_Ativo, x = 'Salario Mês', y = 'Cargo')"
      ],
      "metadata": {
        "id": "qTNH_jsILJen"
      },
      "execution_count": null,
      "outputs": []
    },
    {
      "cell_type": "markdown",
      "source": [
        "### Relação entre “Tempo Empresa Meses\" e “Cargo”\n",
        "\n",
        "\n",
        "\n",
        "> Funcionários ativos e desligados\n",
        "\n"
      ],
      "metadata": {
        "id": "FS_P0HVnLK5m"
      }
    },
    {
      "cell_type": "markdown",
      "source": [
        "O comando abaixo é responsável por gerar um gráfico de dispersão, levando em consideração os funcionários ativos, fazendo a relação dos dados tempo de empresa do colaborador por mês (eixo x) e cargo (eixo y)"
      ],
      "metadata": {
        "id": "s-IidGmI77hh"
      }
    },
    {
      "cell_type": "code",
      "source": [
        "sns.scatterplot(data = df_Desligado, x = 'Tempo Empresa Meses', y = 'Cargo', color='Red')"
      ],
      "metadata": {
        "id": "4plDusmpLLBg"
      },
      "execution_count": null,
      "outputs": []
    },
    {
      "cell_type": "markdown",
      "source": [
        "O comando abaixo é responsável por gerar um gráfico de dispersão, levando em consideração os funcionários desligados, fazendo a relação dos dados tempo de empresa do colaborador por mês (eixo x) e cargo (eixo y)"
      ],
      "metadata": {
        "id": "ufFJALfrLMfF"
      }
    },
    {
      "cell_type": "code",
      "source": [
        "sns.scatterplot(data = df_Ativo, x = 'Tempo Empresa Meses', y = 'Cargo')"
      ],
      "metadata": {
        "id": "bgJWdLGhLMqZ"
      },
      "execution_count": null,
      "outputs": []
    },
    {
      "cell_type": "markdown",
      "source": [
        "### Relação entre \"Dt Saída\" e \"Cargo\""
      ],
      "metadata": {
        "id": "D7e3XVAD79Cy"
      }
    },
    {
      "cell_type": "code",
      "source": [
        "#Agrupa os dados pelos atributos 'Dt Saida' e 'Cargo' contabilizando o tamanho do agrupamento\n",
        "dfg = df.groupby([df['Dt Saida'].dt.year, 'Cargo' ]).size() \n",
        "\n",
        "#Desempilha os dados do dataframe e preenche todos os elementos vazios\n",
        "dfg = dfg.unstack(level=0).fillna(0)\n",
        "\n",
        "#Cria um gráfico de barras com o dfg alterado\n",
        "dfg.plot(kind = 'bar', figsize=(20,5))"
      ],
      "metadata": {
        "id": "N7Wwz7XtPAPB"
      },
      "execution_count": null,
      "outputs": []
    },
    {
      "cell_type": "markdown",
      "source": [
        "## Referências"
      ],
      "metadata": {
        "id": "IKBkHqA26PHI"
      }
    },
    {
      "cell_type": "markdown",
      "source": [
        "BÔSCOA, Vinícius. Codificação de Variáveis - Label vs One-Hot Encoder. [S. l.], 17 maio 2022. Disponível em: https://www.viniboscoa.dev/blog/codificacao-de-variaveis-label-vs-one-hot-encoder. Acesso em: 26 ago. 2022.\n",
        "\n",
        "HORN, Michelle. Python replace: substituindo substrings em uma string!. [S. l.], 31 ago. 2021. Disponível em: https://blog.betrybe.com/python/python-replace/#1. Acesso em: 26 ago. 2022.\n",
        "\n",
        "MOURA, Weslley. One Hot Encoding com Python. [S. l.], 12 dez. 2016. Disponível em: https://hackinganalytics.wordpress.com/2016/12/12/one-hot-encoding-com-python/. Acesso em: 26 ago. 2022.\n",
        "\n",
        "Data Frame. O que é data frame?. Disponível em: https://www.dcc.fc.up.pt/~ltorgo/SebentaR/HTML/node16.html. Acesso em: 26 ago. 2022."
      ],
      "metadata": {
        "id": "fdGEx3DS6R-9"
      }
    }
  ]
}